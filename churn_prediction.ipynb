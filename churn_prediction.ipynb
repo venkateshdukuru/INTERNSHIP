{
  "cells": [
    {
      "cell_type": "code",
      "execution_count": 339,
      "metadata": {
        "_cell_guid": "79c7e3d0-c299-4dcb-8224-4455121ee9b0",
        "_uuid": "d629ff2d2480ee46fbb7e2d37f6b5fab8052498a",
        "execution": {
          "iopub.execute_input": "2020-11-30T09:40:27.416030Z",
          "iopub.status.busy": "2020-11-30T09:40:27.414900Z",
          "iopub.status.idle": "2020-11-30T09:40:28.647902Z",
          "shell.execute_reply": "2020-11-30T09:40:28.647040Z"
        },
        "papermill": {
          "duration": 1.355999,
          "end_time": "2020-11-30T09:40:28.648043",
          "exception": false,
          "start_time": "2020-11-30T09:40:27.292044",
          "status": "completed"
        },
        "tags": [],
        "id": "8vySoMwUclk0"
      },
      "outputs": [],
      "source": [
        "import pandas as pd\n",
        "import numpy as np\n",
        "import matplotlib.pyplot as plt\n",
        "import seaborn as sns\n",
        "%matplotlib inline\n",
        "import warnings\n",
        "warnings.simplefilter('ignore')\n",
        "plt.style.use(\"fivethirtyeight\")"
      ]
    },
    {
      "cell_type": "code",
      "execution_count": 340,
      "metadata": {
        "execution": {
          "iopub.execute_input": "2020-11-30T09:40:28.879750Z",
          "iopub.status.busy": "2020-11-30T09:40:28.878911Z",
          "iopub.status.idle": "2020-11-30T09:40:28.935491Z",
          "shell.execute_reply": "2020-11-30T09:40:28.934694Z"
        },
        "papermill": {
          "duration": 0.175802,
          "end_time": "2020-11-30T09:40:28.935619",
          "exception": false,
          "start_time": "2020-11-30T09:40:28.759817",
          "status": "completed"
        },
        "tags": [],
        "id": "XU01AzSFclk0"
      },
      "outputs": [],
      "source": [
        "data = pd.read_csv(\"/content/WA_Fn-UseC_-Telco-Customer-Churn.csv\")"
      ]
    },
    {
      "cell_type": "code",
      "execution_count": 341,
      "metadata": {
        "execution": {
          "iopub.execute_input": "2020-11-30T09:40:29.186510Z",
          "iopub.status.busy": "2020-11-30T09:40:29.185340Z",
          "iopub.status.idle": "2020-11-30T09:40:29.219457Z",
          "shell.execute_reply": "2020-11-30T09:40:29.218745Z"
        },
        "papermill": {
          "duration": 0.171556,
          "end_time": "2020-11-30T09:40:29.219612",
          "exception": false,
          "start_time": "2020-11-30T09:40:29.048056",
          "status": "completed"
        },
        "tags": [],
        "colab": {
          "base_uri": "https://localhost:8080/",
          "height": 342
        },
        "id": "1Ejs6ErMclk0",
        "outputId": "62f8aec5-8b81-4bf5-cb4f-491ab884e310"
      },
      "outputs": [
        {
          "output_type": "execute_result",
          "data": {
            "text/plain": [
              "   customerID  gender  SeniorCitizen Partner Dependents  tenure PhoneService  \\\n",
              "0  7590-VHVEG  Female              0     Yes         No       1           No   \n",
              "1  5575-GNVDE    Male              0      No         No      34          Yes   \n",
              "2  3668-QPYBK    Male              0      No         No       2          Yes   \n",
              "3  7795-CFOCW    Male              0      No         No      45           No   \n",
              "4  9237-HQITU  Female              0      No         No       2          Yes   \n",
              "\n",
              "      MultipleLines InternetService OnlineSecurity  ... DeviceProtection  \\\n",
              "0  No phone service             DSL             No  ...               No   \n",
              "1                No             DSL            Yes  ...              Yes   \n",
              "2                No             DSL            Yes  ...               No   \n",
              "3  No phone service             DSL            Yes  ...              Yes   \n",
              "4                No     Fiber optic             No  ...               No   \n",
              "\n",
              "  TechSupport StreamingTV StreamingMovies        Contract PaperlessBilling  \\\n",
              "0          No          No              No  Month-to-month              Yes   \n",
              "1          No          No              No        One year               No   \n",
              "2          No          No              No  Month-to-month              Yes   \n",
              "3         Yes          No              No        One year               No   \n",
              "4          No          No              No  Month-to-month              Yes   \n",
              "\n",
              "               PaymentMethod MonthlyCharges  TotalCharges Churn  \n",
              "0           Electronic check          29.85         29.85    No  \n",
              "1               Mailed check          56.95        1889.5    No  \n",
              "2               Mailed check          53.85        108.15   Yes  \n",
              "3  Bank transfer (automatic)          42.30       1840.75    No  \n",
              "4           Electronic check          70.70        151.65   Yes  \n",
              "\n",
              "[5 rows x 21 columns]"
            ],
            "text/html": [
              "\n",
              "  <div id=\"df-17aef1a8-9070-4cf7-a128-a757e63469ca\" class=\"colab-df-container\">\n",
              "    <div>\n",
              "<style scoped>\n",
              "    .dataframe tbody tr th:only-of-type {\n",
              "        vertical-align: middle;\n",
              "    }\n",
              "\n",
              "    .dataframe tbody tr th {\n",
              "        vertical-align: top;\n",
              "    }\n",
              "\n",
              "    .dataframe thead th {\n",
              "        text-align: right;\n",
              "    }\n",
              "</style>\n",
              "<table border=\"1\" class=\"dataframe\">\n",
              "  <thead>\n",
              "    <tr style=\"text-align: right;\">\n",
              "      <th></th>\n",
              "      <th>customerID</th>\n",
              "      <th>gender</th>\n",
              "      <th>SeniorCitizen</th>\n",
              "      <th>Partner</th>\n",
              "      <th>Dependents</th>\n",
              "      <th>tenure</th>\n",
              "      <th>PhoneService</th>\n",
              "      <th>MultipleLines</th>\n",
              "      <th>InternetService</th>\n",
              "      <th>OnlineSecurity</th>\n",
              "      <th>...</th>\n",
              "      <th>DeviceProtection</th>\n",
              "      <th>TechSupport</th>\n",
              "      <th>StreamingTV</th>\n",
              "      <th>StreamingMovies</th>\n",
              "      <th>Contract</th>\n",
              "      <th>PaperlessBilling</th>\n",
              "      <th>PaymentMethod</th>\n",
              "      <th>MonthlyCharges</th>\n",
              "      <th>TotalCharges</th>\n",
              "      <th>Churn</th>\n",
              "    </tr>\n",
              "  </thead>\n",
              "  <tbody>\n",
              "    <tr>\n",
              "      <th>0</th>\n",
              "      <td>7590-VHVEG</td>\n",
              "      <td>Female</td>\n",
              "      <td>0</td>\n",
              "      <td>Yes</td>\n",
              "      <td>No</td>\n",
              "      <td>1</td>\n",
              "      <td>No</td>\n",
              "      <td>No phone service</td>\n",
              "      <td>DSL</td>\n",
              "      <td>No</td>\n",
              "      <td>...</td>\n",
              "      <td>No</td>\n",
              "      <td>No</td>\n",
              "      <td>No</td>\n",
              "      <td>No</td>\n",
              "      <td>Month-to-month</td>\n",
              "      <td>Yes</td>\n",
              "      <td>Electronic check</td>\n",
              "      <td>29.85</td>\n",
              "      <td>29.85</td>\n",
              "      <td>No</td>\n",
              "    </tr>\n",
              "    <tr>\n",
              "      <th>1</th>\n",
              "      <td>5575-GNVDE</td>\n",
              "      <td>Male</td>\n",
              "      <td>0</td>\n",
              "      <td>No</td>\n",
              "      <td>No</td>\n",
              "      <td>34</td>\n",
              "      <td>Yes</td>\n",
              "      <td>No</td>\n",
              "      <td>DSL</td>\n",
              "      <td>Yes</td>\n",
              "      <td>...</td>\n",
              "      <td>Yes</td>\n",
              "      <td>No</td>\n",
              "      <td>No</td>\n",
              "      <td>No</td>\n",
              "      <td>One year</td>\n",
              "      <td>No</td>\n",
              "      <td>Mailed check</td>\n",
              "      <td>56.95</td>\n",
              "      <td>1889.5</td>\n",
              "      <td>No</td>\n",
              "    </tr>\n",
              "    <tr>\n",
              "      <th>2</th>\n",
              "      <td>3668-QPYBK</td>\n",
              "      <td>Male</td>\n",
              "      <td>0</td>\n",
              "      <td>No</td>\n",
              "      <td>No</td>\n",
              "      <td>2</td>\n",
              "      <td>Yes</td>\n",
              "      <td>No</td>\n",
              "      <td>DSL</td>\n",
              "      <td>Yes</td>\n",
              "      <td>...</td>\n",
              "      <td>No</td>\n",
              "      <td>No</td>\n",
              "      <td>No</td>\n",
              "      <td>No</td>\n",
              "      <td>Month-to-month</td>\n",
              "      <td>Yes</td>\n",
              "      <td>Mailed check</td>\n",
              "      <td>53.85</td>\n",
              "      <td>108.15</td>\n",
              "      <td>Yes</td>\n",
              "    </tr>\n",
              "    <tr>\n",
              "      <th>3</th>\n",
              "      <td>7795-CFOCW</td>\n",
              "      <td>Male</td>\n",
              "      <td>0</td>\n",
              "      <td>No</td>\n",
              "      <td>No</td>\n",
              "      <td>45</td>\n",
              "      <td>No</td>\n",
              "      <td>No phone service</td>\n",
              "      <td>DSL</td>\n",
              "      <td>Yes</td>\n",
              "      <td>...</td>\n",
              "      <td>Yes</td>\n",
              "      <td>Yes</td>\n",
              "      <td>No</td>\n",
              "      <td>No</td>\n",
              "      <td>One year</td>\n",
              "      <td>No</td>\n",
              "      <td>Bank transfer (automatic)</td>\n",
              "      <td>42.30</td>\n",
              "      <td>1840.75</td>\n",
              "      <td>No</td>\n",
              "    </tr>\n",
              "    <tr>\n",
              "      <th>4</th>\n",
              "      <td>9237-HQITU</td>\n",
              "      <td>Female</td>\n",
              "      <td>0</td>\n",
              "      <td>No</td>\n",
              "      <td>No</td>\n",
              "      <td>2</td>\n",
              "      <td>Yes</td>\n",
              "      <td>No</td>\n",
              "      <td>Fiber optic</td>\n",
              "      <td>No</td>\n",
              "      <td>...</td>\n",
              "      <td>No</td>\n",
              "      <td>No</td>\n",
              "      <td>No</td>\n",
              "      <td>No</td>\n",
              "      <td>Month-to-month</td>\n",
              "      <td>Yes</td>\n",
              "      <td>Electronic check</td>\n",
              "      <td>70.70</td>\n",
              "      <td>151.65</td>\n",
              "      <td>Yes</td>\n",
              "    </tr>\n",
              "  </tbody>\n",
              "</table>\n",
              "<p>5 rows × 21 columns</p>\n",
              "</div>\n",
              "    <div class=\"colab-df-buttons\">\n",
              "\n",
              "  <div class=\"colab-df-container\">\n",
              "    <button class=\"colab-df-convert\" onclick=\"convertToInteractive('df-17aef1a8-9070-4cf7-a128-a757e63469ca')\"\n",
              "            title=\"Convert this dataframe to an interactive table.\"\n",
              "            style=\"display:none;\">\n",
              "\n",
              "  <svg xmlns=\"http://www.w3.org/2000/svg\" height=\"24px\" viewBox=\"0 -960 960 960\">\n",
              "    <path d=\"M120-120v-720h720v720H120Zm60-500h600v-160H180v160Zm220 220h160v-160H400v160Zm0 220h160v-160H400v160ZM180-400h160v-160H180v160Zm440 0h160v-160H620v160ZM180-180h160v-160H180v160Zm440 0h160v-160H620v160Z\"/>\n",
              "  </svg>\n",
              "    </button>\n",
              "\n",
              "  <style>\n",
              "    .colab-df-container {\n",
              "      display:flex;\n",
              "      gap: 12px;\n",
              "    }\n",
              "\n",
              "    .colab-df-convert {\n",
              "      background-color: #E8F0FE;\n",
              "      border: none;\n",
              "      border-radius: 50%;\n",
              "      cursor: pointer;\n",
              "      display: none;\n",
              "      fill: #1967D2;\n",
              "      height: 32px;\n",
              "      padding: 0 0 0 0;\n",
              "      width: 32px;\n",
              "    }\n",
              "\n",
              "    .colab-df-convert:hover {\n",
              "      background-color: #E2EBFA;\n",
              "      box-shadow: 0px 1px 2px rgba(60, 64, 67, 0.3), 0px 1px 3px 1px rgba(60, 64, 67, 0.15);\n",
              "      fill: #174EA6;\n",
              "    }\n",
              "\n",
              "    .colab-df-buttons div {\n",
              "      margin-bottom: 4px;\n",
              "    }\n",
              "\n",
              "    [theme=dark] .colab-df-convert {\n",
              "      background-color: #3B4455;\n",
              "      fill: #D2E3FC;\n",
              "    }\n",
              "\n",
              "    [theme=dark] .colab-df-convert:hover {\n",
              "      background-color: #434B5C;\n",
              "      box-shadow: 0px 1px 3px 1px rgba(0, 0, 0, 0.15);\n",
              "      filter: drop-shadow(0px 1px 2px rgba(0, 0, 0, 0.3));\n",
              "      fill: #FFFFFF;\n",
              "    }\n",
              "  </style>\n",
              "\n",
              "    <script>\n",
              "      const buttonEl =\n",
              "        document.querySelector('#df-17aef1a8-9070-4cf7-a128-a757e63469ca button.colab-df-convert');\n",
              "      buttonEl.style.display =\n",
              "        google.colab.kernel.accessAllowed ? 'block' : 'none';\n",
              "\n",
              "      async function convertToInteractive(key) {\n",
              "        const element = document.querySelector('#df-17aef1a8-9070-4cf7-a128-a757e63469ca');\n",
              "        const dataTable =\n",
              "          await google.colab.kernel.invokeFunction('convertToInteractive',\n",
              "                                                    [key], {});\n",
              "        if (!dataTable) return;\n",
              "\n",
              "        const docLinkHtml = 'Like what you see? Visit the ' +\n",
              "          '<a target=\"_blank\" href=https://colab.research.google.com/notebooks/data_table.ipynb>data table notebook</a>'\n",
              "          + ' to learn more about interactive tables.';\n",
              "        element.innerHTML = '';\n",
              "        dataTable['output_type'] = 'display_data';\n",
              "        await google.colab.output.renderOutput(dataTable, element);\n",
              "        const docLink = document.createElement('div');\n",
              "        docLink.innerHTML = docLinkHtml;\n",
              "        element.appendChild(docLink);\n",
              "      }\n",
              "    </script>\n",
              "  </div>\n",
              "\n",
              "\n",
              "<div id=\"df-61e8d0b5-1810-4615-a8bd-25cb128514ce\">\n",
              "  <button class=\"colab-df-quickchart\" onclick=\"quickchart('df-61e8d0b5-1810-4615-a8bd-25cb128514ce')\"\n",
              "            title=\"Suggest charts\"\n",
              "            style=\"display:none;\">\n",
              "\n",
              "<svg xmlns=\"http://www.w3.org/2000/svg\" height=\"24px\"viewBox=\"0 0 24 24\"\n",
              "     width=\"24px\">\n",
              "    <g>\n",
              "        <path d=\"M19 3H5c-1.1 0-2 .9-2 2v14c0 1.1.9 2 2 2h14c1.1 0 2-.9 2-2V5c0-1.1-.9-2-2-2zM9 17H7v-7h2v7zm4 0h-2V7h2v10zm4 0h-2v-4h2v4z\"/>\n",
              "    </g>\n",
              "</svg>\n",
              "  </button>\n",
              "\n",
              "<style>\n",
              "  .colab-df-quickchart {\n",
              "      --bg-color: #E8F0FE;\n",
              "      --fill-color: #1967D2;\n",
              "      --hover-bg-color: #E2EBFA;\n",
              "      --hover-fill-color: #174EA6;\n",
              "      --disabled-fill-color: #AAA;\n",
              "      --disabled-bg-color: #DDD;\n",
              "  }\n",
              "\n",
              "  [theme=dark] .colab-df-quickchart {\n",
              "      --bg-color: #3B4455;\n",
              "      --fill-color: #D2E3FC;\n",
              "      --hover-bg-color: #434B5C;\n",
              "      --hover-fill-color: #FFFFFF;\n",
              "      --disabled-bg-color: #3B4455;\n",
              "      --disabled-fill-color: #666;\n",
              "  }\n",
              "\n",
              "  .colab-df-quickchart {\n",
              "    background-color: var(--bg-color);\n",
              "    border: none;\n",
              "    border-radius: 50%;\n",
              "    cursor: pointer;\n",
              "    display: none;\n",
              "    fill: var(--fill-color);\n",
              "    height: 32px;\n",
              "    padding: 0;\n",
              "    width: 32px;\n",
              "  }\n",
              "\n",
              "  .colab-df-quickchart:hover {\n",
              "    background-color: var(--hover-bg-color);\n",
              "    box-shadow: 0 1px 2px rgba(60, 64, 67, 0.3), 0 1px 3px 1px rgba(60, 64, 67, 0.15);\n",
              "    fill: var(--button-hover-fill-color);\n",
              "  }\n",
              "\n",
              "  .colab-df-quickchart-complete:disabled,\n",
              "  .colab-df-quickchart-complete:disabled:hover {\n",
              "    background-color: var(--disabled-bg-color);\n",
              "    fill: var(--disabled-fill-color);\n",
              "    box-shadow: none;\n",
              "  }\n",
              "\n",
              "  .colab-df-spinner {\n",
              "    border: 2px solid var(--fill-color);\n",
              "    border-color: transparent;\n",
              "    border-bottom-color: var(--fill-color);\n",
              "    animation:\n",
              "      spin 1s steps(1) infinite;\n",
              "  }\n",
              "\n",
              "  @keyframes spin {\n",
              "    0% {\n",
              "      border-color: transparent;\n",
              "      border-bottom-color: var(--fill-color);\n",
              "      border-left-color: var(--fill-color);\n",
              "    }\n",
              "    20% {\n",
              "      border-color: transparent;\n",
              "      border-left-color: var(--fill-color);\n",
              "      border-top-color: var(--fill-color);\n",
              "    }\n",
              "    30% {\n",
              "      border-color: transparent;\n",
              "      border-left-color: var(--fill-color);\n",
              "      border-top-color: var(--fill-color);\n",
              "      border-right-color: var(--fill-color);\n",
              "    }\n",
              "    40% {\n",
              "      border-color: transparent;\n",
              "      border-right-color: var(--fill-color);\n",
              "      border-top-color: var(--fill-color);\n",
              "    }\n",
              "    60% {\n",
              "      border-color: transparent;\n",
              "      border-right-color: var(--fill-color);\n",
              "    }\n",
              "    80% {\n",
              "      border-color: transparent;\n",
              "      border-right-color: var(--fill-color);\n",
              "      border-bottom-color: var(--fill-color);\n",
              "    }\n",
              "    90% {\n",
              "      border-color: transparent;\n",
              "      border-bottom-color: var(--fill-color);\n",
              "    }\n",
              "  }\n",
              "</style>\n",
              "\n",
              "  <script>\n",
              "    async function quickchart(key) {\n",
              "      const quickchartButtonEl =\n",
              "        document.querySelector('#' + key + ' button');\n",
              "      quickchartButtonEl.disabled = true;  // To prevent multiple clicks.\n",
              "      quickchartButtonEl.classList.add('colab-df-spinner');\n",
              "      try {\n",
              "        const charts = await google.colab.kernel.invokeFunction(\n",
              "            'suggestCharts', [key], {});\n",
              "      } catch (error) {\n",
              "        console.error('Error during call to suggestCharts:', error);\n",
              "      }\n",
              "      quickchartButtonEl.classList.remove('colab-df-spinner');\n",
              "      quickchartButtonEl.classList.add('colab-df-quickchart-complete');\n",
              "    }\n",
              "    (() => {\n",
              "      let quickchartButtonEl =\n",
              "        document.querySelector('#df-61e8d0b5-1810-4615-a8bd-25cb128514ce button');\n",
              "      quickchartButtonEl.style.display =\n",
              "        google.colab.kernel.accessAllowed ? 'block' : 'none';\n",
              "    })();\n",
              "  </script>\n",
              "</div>\n",
              "    </div>\n",
              "  </div>\n"
            ]
          },
          "metadata": {},
          "execution_count": 341
        }
      ],
      "source": [
        "data.head()"
      ]
    },
    {
      "cell_type": "code",
      "execution_count": 342,
      "metadata": {
        "execution": {
          "iopub.execute_input": "2020-11-30T09:40:29.492363Z",
          "iopub.status.busy": "2020-11-30T09:40:29.491251Z",
          "iopub.status.idle": "2020-11-30T09:40:29.496172Z",
          "shell.execute_reply": "2020-11-30T09:40:29.495360Z"
        },
        "papermill": {
          "duration": 0.147997,
          "end_time": "2020-11-30T09:40:29.496368",
          "exception": false,
          "start_time": "2020-11-30T09:40:29.348371",
          "status": "completed"
        },
        "tags": [],
        "colab": {
          "base_uri": "https://localhost:8080/"
        },
        "id": "0kzGh04hclk1",
        "outputId": "7c05aa05-d425-4f87-a3c9-1201473eb6db"
      },
      "outputs": [
        {
          "output_type": "execute_result",
          "data": {
            "text/plain": [
              "customerID           object\n",
              "gender               object\n",
              "SeniorCitizen         int64\n",
              "Partner              object\n",
              "Dependents           object\n",
              "tenure                int64\n",
              "PhoneService         object\n",
              "MultipleLines        object\n",
              "InternetService      object\n",
              "OnlineSecurity       object\n",
              "OnlineBackup         object\n",
              "DeviceProtection     object\n",
              "TechSupport          object\n",
              "StreamingTV          object\n",
              "StreamingMovies      object\n",
              "Contract             object\n",
              "PaperlessBilling     object\n",
              "PaymentMethod        object\n",
              "MonthlyCharges      float64\n",
              "TotalCharges         object\n",
              "Churn                object\n",
              "dtype: object"
            ]
          },
          "metadata": {},
          "execution_count": 342
        }
      ],
      "source": [
        "data.dtypes"
      ]
    },
    {
      "cell_type": "code",
      "execution_count": 343,
      "metadata": {
        "execution": {
          "iopub.execute_input": "2020-11-30T09:40:29.739609Z",
          "iopub.status.busy": "2020-11-30T09:40:29.738706Z",
          "iopub.status.idle": "2020-11-30T09:40:29.743091Z",
          "shell.execute_reply": "2020-11-30T09:40:29.742406Z"
        },
        "papermill": {
          "duration": 0.123564,
          "end_time": "2020-11-30T09:40:29.743251",
          "exception": false,
          "start_time": "2020-11-30T09:40:29.619687",
          "status": "completed"
        },
        "tags": [],
        "colab": {
          "base_uri": "https://localhost:8080/"
        },
        "id": "GF2Zxe7wclk1",
        "outputId": "35942ed3-f637-4e79-c94a-2a49086260ce"
      },
      "outputs": [
        {
          "output_type": "execute_result",
          "data": {
            "text/plain": [
              "(7043, 21)"
            ]
          },
          "metadata": {},
          "execution_count": 343
        }
      ],
      "source": [
        "data.shape"
      ]
    },
    {
      "cell_type": "code",
      "execution_count": 344,
      "metadata": {
        "execution": {
          "iopub.execute_input": "2020-11-30T09:40:29.991234Z",
          "iopub.status.busy": "2020-11-30T09:40:29.990101Z",
          "iopub.status.idle": "2020-11-30T09:40:29.998363Z",
          "shell.execute_reply": "2020-11-30T09:40:29.997528Z"
        },
        "papermill": {
          "duration": 0.141957,
          "end_time": "2020-11-30T09:40:29.998497",
          "exception": false,
          "start_time": "2020-11-30T09:40:29.856540",
          "status": "completed"
        },
        "tags": [],
        "colab": {
          "base_uri": "https://localhost:8080/"
        },
        "id": "O5caYc7Dclk1",
        "outputId": "13006c82-4613-4fae-f1f6-22ac2610f99b"
      },
      "outputs": [
        {
          "output_type": "execute_result",
          "data": {
            "text/plain": [
              "customerID          0\n",
              "gender              0\n",
              "SeniorCitizen       0\n",
              "Partner             0\n",
              "Dependents          0\n",
              "tenure              0\n",
              "PhoneService        0\n",
              "MultipleLines       0\n",
              "InternetService     0\n",
              "OnlineSecurity      0\n",
              "OnlineBackup        0\n",
              "DeviceProtection    0\n",
              "TechSupport         0\n",
              "StreamingTV         0\n",
              "StreamingMovies     0\n",
              "Contract            0\n",
              "PaperlessBilling    0\n",
              "PaymentMethod       0\n",
              "MonthlyCharges      0\n",
              "TotalCharges        0\n",
              "Churn               0\n",
              "dtype: int64"
            ]
          },
          "metadata": {},
          "execution_count": 344
        }
      ],
      "source": [
        "data.isna().sum()"
      ]
    },
    {
      "cell_type": "code",
      "execution_count": 345,
      "metadata": {
        "execution": {
          "iopub.execute_input": "2020-11-30T09:40:30.250635Z",
          "iopub.status.busy": "2020-11-30T09:40:30.249427Z",
          "iopub.status.idle": "2020-11-30T09:40:30.273602Z",
          "shell.execute_reply": "2020-11-30T09:40:30.274231Z"
        },
        "papermill": {
          "duration": 0.161582,
          "end_time": "2020-11-30T09:40:30.274413",
          "exception": false,
          "start_time": "2020-11-30T09:40:30.112831",
          "status": "completed"
        },
        "tags": [],
        "colab": {
          "base_uri": "https://localhost:8080/",
          "height": 175
        },
        "id": "Os3qPuwZclk1",
        "outputId": "c45af5ec-f8a8-4217-b7f7-cc837f8553d4"
      },
      "outputs": [
        {
          "output_type": "execute_result",
          "data": {
            "text/plain": [
              "      MonthlyCharges                    tenure               \n",
              "                 min     max       mean    min max       mean\n",
              "Churn                                                        \n",
              "No             18.25  118.75  61.265124      0  72  37.569965\n",
              "Yes            18.85  118.35  74.441332      1  72  17.979133"
            ],
            "text/html": [
              "\n",
              "  <div id=\"df-92c3a631-2cf5-4266-9cf1-f9f18b74b335\" class=\"colab-df-container\">\n",
              "    <div>\n",
              "<style scoped>\n",
              "    .dataframe tbody tr th:only-of-type {\n",
              "        vertical-align: middle;\n",
              "    }\n",
              "\n",
              "    .dataframe tbody tr th {\n",
              "        vertical-align: top;\n",
              "    }\n",
              "\n",
              "    .dataframe thead tr th {\n",
              "        text-align: left;\n",
              "    }\n",
              "\n",
              "    .dataframe thead tr:last-of-type th {\n",
              "        text-align: right;\n",
              "    }\n",
              "</style>\n",
              "<table border=\"1\" class=\"dataframe\">\n",
              "  <thead>\n",
              "    <tr>\n",
              "      <th></th>\n",
              "      <th colspan=\"3\" halign=\"left\">MonthlyCharges</th>\n",
              "      <th colspan=\"3\" halign=\"left\">tenure</th>\n",
              "    </tr>\n",
              "    <tr>\n",
              "      <th></th>\n",
              "      <th>min</th>\n",
              "      <th>max</th>\n",
              "      <th>mean</th>\n",
              "      <th>min</th>\n",
              "      <th>max</th>\n",
              "      <th>mean</th>\n",
              "    </tr>\n",
              "    <tr>\n",
              "      <th>Churn</th>\n",
              "      <th></th>\n",
              "      <th></th>\n",
              "      <th></th>\n",
              "      <th></th>\n",
              "      <th></th>\n",
              "      <th></th>\n",
              "    </tr>\n",
              "  </thead>\n",
              "  <tbody>\n",
              "    <tr>\n",
              "      <th>No</th>\n",
              "      <td>18.25</td>\n",
              "      <td>118.75</td>\n",
              "      <td>61.265124</td>\n",
              "      <td>0</td>\n",
              "      <td>72</td>\n",
              "      <td>37.569965</td>\n",
              "    </tr>\n",
              "    <tr>\n",
              "      <th>Yes</th>\n",
              "      <td>18.85</td>\n",
              "      <td>118.35</td>\n",
              "      <td>74.441332</td>\n",
              "      <td>1</td>\n",
              "      <td>72</td>\n",
              "      <td>17.979133</td>\n",
              "    </tr>\n",
              "  </tbody>\n",
              "</table>\n",
              "</div>\n",
              "    <div class=\"colab-df-buttons\">\n",
              "\n",
              "  <div class=\"colab-df-container\">\n",
              "    <button class=\"colab-df-convert\" onclick=\"convertToInteractive('df-92c3a631-2cf5-4266-9cf1-f9f18b74b335')\"\n",
              "            title=\"Convert this dataframe to an interactive table.\"\n",
              "            style=\"display:none;\">\n",
              "\n",
              "  <svg xmlns=\"http://www.w3.org/2000/svg\" height=\"24px\" viewBox=\"0 -960 960 960\">\n",
              "    <path d=\"M120-120v-720h720v720H120Zm60-500h600v-160H180v160Zm220 220h160v-160H400v160Zm0 220h160v-160H400v160ZM180-400h160v-160H180v160Zm440 0h160v-160H620v160ZM180-180h160v-160H180v160Zm440 0h160v-160H620v160Z\"/>\n",
              "  </svg>\n",
              "    </button>\n",
              "\n",
              "  <style>\n",
              "    .colab-df-container {\n",
              "      display:flex;\n",
              "      gap: 12px;\n",
              "    }\n",
              "\n",
              "    .colab-df-convert {\n",
              "      background-color: #E8F0FE;\n",
              "      border: none;\n",
              "      border-radius: 50%;\n",
              "      cursor: pointer;\n",
              "      display: none;\n",
              "      fill: #1967D2;\n",
              "      height: 32px;\n",
              "      padding: 0 0 0 0;\n",
              "      width: 32px;\n",
              "    }\n",
              "\n",
              "    .colab-df-convert:hover {\n",
              "      background-color: #E2EBFA;\n",
              "      box-shadow: 0px 1px 2px rgba(60, 64, 67, 0.3), 0px 1px 3px 1px rgba(60, 64, 67, 0.15);\n",
              "      fill: #174EA6;\n",
              "    }\n",
              "\n",
              "    .colab-df-buttons div {\n",
              "      margin-bottom: 4px;\n",
              "    }\n",
              "\n",
              "    [theme=dark] .colab-df-convert {\n",
              "      background-color: #3B4455;\n",
              "      fill: #D2E3FC;\n",
              "    }\n",
              "\n",
              "    [theme=dark] .colab-df-convert:hover {\n",
              "      background-color: #434B5C;\n",
              "      box-shadow: 0px 1px 3px 1px rgba(0, 0, 0, 0.15);\n",
              "      filter: drop-shadow(0px 1px 2px rgba(0, 0, 0, 0.3));\n",
              "      fill: #FFFFFF;\n",
              "    }\n",
              "  </style>\n",
              "\n",
              "    <script>\n",
              "      const buttonEl =\n",
              "        document.querySelector('#df-92c3a631-2cf5-4266-9cf1-f9f18b74b335 button.colab-df-convert');\n",
              "      buttonEl.style.display =\n",
              "        google.colab.kernel.accessAllowed ? 'block' : 'none';\n",
              "\n",
              "      async function convertToInteractive(key) {\n",
              "        const element = document.querySelector('#df-92c3a631-2cf5-4266-9cf1-f9f18b74b335');\n",
              "        const dataTable =\n",
              "          await google.colab.kernel.invokeFunction('convertToInteractive',\n",
              "                                                    [key], {});\n",
              "        if (!dataTable) return;\n",
              "\n",
              "        const docLinkHtml = 'Like what you see? Visit the ' +\n",
              "          '<a target=\"_blank\" href=https://colab.research.google.com/notebooks/data_table.ipynb>data table notebook</a>'\n",
              "          + ' to learn more about interactive tables.';\n",
              "        element.innerHTML = '';\n",
              "        dataTable['output_type'] = 'display_data';\n",
              "        await google.colab.output.renderOutput(dataTable, element);\n",
              "        const docLink = document.createElement('div');\n",
              "        docLink.innerHTML = docLinkHtml;\n",
              "        element.appendChild(docLink);\n",
              "      }\n",
              "    </script>\n",
              "  </div>\n",
              "\n",
              "\n",
              "<div id=\"df-aff56c78-cfd4-47d3-8b59-193e6b1f4e43\">\n",
              "  <button class=\"colab-df-quickchart\" onclick=\"quickchart('df-aff56c78-cfd4-47d3-8b59-193e6b1f4e43')\"\n",
              "            title=\"Suggest charts\"\n",
              "            style=\"display:none;\">\n",
              "\n",
              "<svg xmlns=\"http://www.w3.org/2000/svg\" height=\"24px\"viewBox=\"0 0 24 24\"\n",
              "     width=\"24px\">\n",
              "    <g>\n",
              "        <path d=\"M19 3H5c-1.1 0-2 .9-2 2v14c0 1.1.9 2 2 2h14c1.1 0 2-.9 2-2V5c0-1.1-.9-2-2-2zM9 17H7v-7h2v7zm4 0h-2V7h2v10zm4 0h-2v-4h2v4z\"/>\n",
              "    </g>\n",
              "</svg>\n",
              "  </button>\n",
              "\n",
              "<style>\n",
              "  .colab-df-quickchart {\n",
              "      --bg-color: #E8F0FE;\n",
              "      --fill-color: #1967D2;\n",
              "      --hover-bg-color: #E2EBFA;\n",
              "      --hover-fill-color: #174EA6;\n",
              "      --disabled-fill-color: #AAA;\n",
              "      --disabled-bg-color: #DDD;\n",
              "  }\n",
              "\n",
              "  [theme=dark] .colab-df-quickchart {\n",
              "      --bg-color: #3B4455;\n",
              "      --fill-color: #D2E3FC;\n",
              "      --hover-bg-color: #434B5C;\n",
              "      --hover-fill-color: #FFFFFF;\n",
              "      --disabled-bg-color: #3B4455;\n",
              "      --disabled-fill-color: #666;\n",
              "  }\n",
              "\n",
              "  .colab-df-quickchart {\n",
              "    background-color: var(--bg-color);\n",
              "    border: none;\n",
              "    border-radius: 50%;\n",
              "    cursor: pointer;\n",
              "    display: none;\n",
              "    fill: var(--fill-color);\n",
              "    height: 32px;\n",
              "    padding: 0;\n",
              "    width: 32px;\n",
              "  }\n",
              "\n",
              "  .colab-df-quickchart:hover {\n",
              "    background-color: var(--hover-bg-color);\n",
              "    box-shadow: 0 1px 2px rgba(60, 64, 67, 0.3), 0 1px 3px 1px rgba(60, 64, 67, 0.15);\n",
              "    fill: var(--button-hover-fill-color);\n",
              "  }\n",
              "\n",
              "  .colab-df-quickchart-complete:disabled,\n",
              "  .colab-df-quickchart-complete:disabled:hover {\n",
              "    background-color: var(--disabled-bg-color);\n",
              "    fill: var(--disabled-fill-color);\n",
              "    box-shadow: none;\n",
              "  }\n",
              "\n",
              "  .colab-df-spinner {\n",
              "    border: 2px solid var(--fill-color);\n",
              "    border-color: transparent;\n",
              "    border-bottom-color: var(--fill-color);\n",
              "    animation:\n",
              "      spin 1s steps(1) infinite;\n",
              "  }\n",
              "\n",
              "  @keyframes spin {\n",
              "    0% {\n",
              "      border-color: transparent;\n",
              "      border-bottom-color: var(--fill-color);\n",
              "      border-left-color: var(--fill-color);\n",
              "    }\n",
              "    20% {\n",
              "      border-color: transparent;\n",
              "      border-left-color: var(--fill-color);\n",
              "      border-top-color: var(--fill-color);\n",
              "    }\n",
              "    30% {\n",
              "      border-color: transparent;\n",
              "      border-left-color: var(--fill-color);\n",
              "      border-top-color: var(--fill-color);\n",
              "      border-right-color: var(--fill-color);\n",
              "    }\n",
              "    40% {\n",
              "      border-color: transparent;\n",
              "      border-right-color: var(--fill-color);\n",
              "      border-top-color: var(--fill-color);\n",
              "    }\n",
              "    60% {\n",
              "      border-color: transparent;\n",
              "      border-right-color: var(--fill-color);\n",
              "    }\n",
              "    80% {\n",
              "      border-color: transparent;\n",
              "      border-right-color: var(--fill-color);\n",
              "      border-bottom-color: var(--fill-color);\n",
              "    }\n",
              "    90% {\n",
              "      border-color: transparent;\n",
              "      border-bottom-color: var(--fill-color);\n",
              "    }\n",
              "  }\n",
              "</style>\n",
              "\n",
              "  <script>\n",
              "    async function quickchart(key) {\n",
              "      const quickchartButtonEl =\n",
              "        document.querySelector('#' + key + ' button');\n",
              "      quickchartButtonEl.disabled = true;  // To prevent multiple clicks.\n",
              "      quickchartButtonEl.classList.add('colab-df-spinner');\n",
              "      try {\n",
              "        const charts = await google.colab.kernel.invokeFunction(\n",
              "            'suggestCharts', [key], {});\n",
              "      } catch (error) {\n",
              "        console.error('Error during call to suggestCharts:', error);\n",
              "      }\n",
              "      quickchartButtonEl.classList.remove('colab-df-spinner');\n",
              "      quickchartButtonEl.classList.add('colab-df-quickchart-complete');\n",
              "    }\n",
              "    (() => {\n",
              "      let quickchartButtonEl =\n",
              "        document.querySelector('#df-aff56c78-cfd4-47d3-8b59-193e6b1f4e43 button');\n",
              "      quickchartButtonEl.style.display =\n",
              "        google.colab.kernel.accessAllowed ? 'block' : 'none';\n",
              "    })();\n",
              "  </script>\n",
              "</div>\n",
              "    </div>\n",
              "  </div>\n"
            ]
          },
          "metadata": {},
          "execution_count": 345
        }
      ],
      "source": [
        "data.groupby('Churn')[['MonthlyCharges', 'tenure']].agg(['min', 'max', 'mean'])"
      ]
    },
    {
      "cell_type": "markdown",
      "metadata": {
        "papermill": {
          "duration": 0.117767,
          "end_time": "2020-11-30T09:40:30.521058",
          "exception": false,
          "start_time": "2020-11-30T09:40:30.403291",
          "status": "completed"
        },
        "tags": [],
        "id": "BtjzH-hPclk1"
      },
      "source": [
        "TotalCharges columns has numeric values but looks object type."
      ]
    },
    {
      "cell_type": "code",
      "execution_count": 346,
      "metadata": {
        "execution": {
          "iopub.execute_input": "2020-11-30T09:40:30.798118Z",
          "iopub.status.busy": "2020-11-30T09:40:30.796444Z",
          "iopub.status.idle": "2020-11-30T09:40:30.803512Z",
          "shell.execute_reply": "2020-11-30T09:40:30.802892Z"
        },
        "papermill": {
          "duration": 0.165603,
          "end_time": "2020-11-30T09:40:30.803645",
          "exception": false,
          "start_time": "2020-11-30T09:40:30.638042",
          "status": "completed"
        },
        "tags": [],
        "colab": {
          "base_uri": "https://localhost:8080/",
          "height": 635
        },
        "id": "dUm2PYGyclk1",
        "outputId": "1386d947-b304-43df-b12c-eff024f9fc95"
      },
      "outputs": [
        {
          "output_type": "execute_result",
          "data": {
            "text/plain": [
              "      customerID  gender  SeniorCitizen Partner Dependents  tenure  \\\n",
              "488   4472-LVYGI  Female              0     Yes        Yes       0   \n",
              "753   3115-CZMZD    Male              0      No        Yes       0   \n",
              "936   5709-LVOEQ  Female              0     Yes        Yes       0   \n",
              "1082  4367-NUYAO    Male              0     Yes        Yes       0   \n",
              "1340  1371-DWPAZ  Female              0     Yes        Yes       0   \n",
              "3331  7644-OMVMY    Male              0     Yes        Yes       0   \n",
              "3826  3213-VVOLG    Male              0     Yes        Yes       0   \n",
              "4380  2520-SGTTA  Female              0     Yes        Yes       0   \n",
              "5218  2923-ARZLG    Male              0     Yes        Yes       0   \n",
              "6670  4075-WKNIU  Female              0     Yes        Yes       0   \n",
              "6754  2775-SEFEE    Male              0      No        Yes       0   \n",
              "\n",
              "     PhoneService     MultipleLines InternetService       OnlineSecurity  ...  \\\n",
              "488            No  No phone service             DSL                  Yes  ...   \n",
              "753           Yes                No              No  No internet service  ...   \n",
              "936           Yes                No             DSL                  Yes  ...   \n",
              "1082          Yes               Yes              No  No internet service  ...   \n",
              "1340           No  No phone service             DSL                  Yes  ...   \n",
              "3331          Yes                No              No  No internet service  ...   \n",
              "3826          Yes               Yes              No  No internet service  ...   \n",
              "4380          Yes                No              No  No internet service  ...   \n",
              "5218          Yes                No              No  No internet service  ...   \n",
              "6670          Yes               Yes             DSL                   No  ...   \n",
              "6754          Yes               Yes             DSL                  Yes  ...   \n",
              "\n",
              "         DeviceProtection          TechSupport          StreamingTV  \\\n",
              "488                   Yes                  Yes                  Yes   \n",
              "753   No internet service  No internet service  No internet service   \n",
              "936                   Yes                   No                  Yes   \n",
              "1082  No internet service  No internet service  No internet service   \n",
              "1340                  Yes                  Yes                  Yes   \n",
              "3331  No internet service  No internet service  No internet service   \n",
              "3826  No internet service  No internet service  No internet service   \n",
              "4380  No internet service  No internet service  No internet service   \n",
              "5218  No internet service  No internet service  No internet service   \n",
              "6670                  Yes                  Yes                  Yes   \n",
              "6754                   No                  Yes                   No   \n",
              "\n",
              "          StreamingMovies  Contract PaperlessBilling  \\\n",
              "488                    No  Two year              Yes   \n",
              "753   No internet service  Two year               No   \n",
              "936                   Yes  Two year               No   \n",
              "1082  No internet service  Two year               No   \n",
              "1340                   No  Two year               No   \n",
              "3331  No internet service  Two year               No   \n",
              "3826  No internet service  Two year               No   \n",
              "4380  No internet service  Two year               No   \n",
              "5218  No internet service  One year              Yes   \n",
              "6670                   No  Two year               No   \n",
              "6754                   No  Two year              Yes   \n",
              "\n",
              "                  PaymentMethod MonthlyCharges  TotalCharges Churn  \n",
              "488   Bank transfer (automatic)          52.55                  No  \n",
              "753                Mailed check          20.25                  No  \n",
              "936                Mailed check          80.85                  No  \n",
              "1082               Mailed check          25.75                  No  \n",
              "1340    Credit card (automatic)          56.05                  No  \n",
              "3331               Mailed check          19.85                  No  \n",
              "3826               Mailed check          25.35                  No  \n",
              "4380               Mailed check          20.00                  No  \n",
              "5218               Mailed check          19.70                  No  \n",
              "6670               Mailed check          73.35                  No  \n",
              "6754  Bank transfer (automatic)          61.90                  No  \n",
              "\n",
              "[11 rows x 21 columns]"
            ],
            "text/html": [
              "\n",
              "  <div id=\"df-a5fe8eb6-aced-4258-9212-d3587d3cc353\" class=\"colab-df-container\">\n",
              "    <div>\n",
              "<style scoped>\n",
              "    .dataframe tbody tr th:only-of-type {\n",
              "        vertical-align: middle;\n",
              "    }\n",
              "\n",
              "    .dataframe tbody tr th {\n",
              "        vertical-align: top;\n",
              "    }\n",
              "\n",
              "    .dataframe thead th {\n",
              "        text-align: right;\n",
              "    }\n",
              "</style>\n",
              "<table border=\"1\" class=\"dataframe\">\n",
              "  <thead>\n",
              "    <tr style=\"text-align: right;\">\n",
              "      <th></th>\n",
              "      <th>customerID</th>\n",
              "      <th>gender</th>\n",
              "      <th>SeniorCitizen</th>\n",
              "      <th>Partner</th>\n",
              "      <th>Dependents</th>\n",
              "      <th>tenure</th>\n",
              "      <th>PhoneService</th>\n",
              "      <th>MultipleLines</th>\n",
              "      <th>InternetService</th>\n",
              "      <th>OnlineSecurity</th>\n",
              "      <th>...</th>\n",
              "      <th>DeviceProtection</th>\n",
              "      <th>TechSupport</th>\n",
              "      <th>StreamingTV</th>\n",
              "      <th>StreamingMovies</th>\n",
              "      <th>Contract</th>\n",
              "      <th>PaperlessBilling</th>\n",
              "      <th>PaymentMethod</th>\n",
              "      <th>MonthlyCharges</th>\n",
              "      <th>TotalCharges</th>\n",
              "      <th>Churn</th>\n",
              "    </tr>\n",
              "  </thead>\n",
              "  <tbody>\n",
              "    <tr>\n",
              "      <th>488</th>\n",
              "      <td>4472-LVYGI</td>\n",
              "      <td>Female</td>\n",
              "      <td>0</td>\n",
              "      <td>Yes</td>\n",
              "      <td>Yes</td>\n",
              "      <td>0</td>\n",
              "      <td>No</td>\n",
              "      <td>No phone service</td>\n",
              "      <td>DSL</td>\n",
              "      <td>Yes</td>\n",
              "      <td>...</td>\n",
              "      <td>Yes</td>\n",
              "      <td>Yes</td>\n",
              "      <td>Yes</td>\n",
              "      <td>No</td>\n",
              "      <td>Two year</td>\n",
              "      <td>Yes</td>\n",
              "      <td>Bank transfer (automatic)</td>\n",
              "      <td>52.55</td>\n",
              "      <td></td>\n",
              "      <td>No</td>\n",
              "    </tr>\n",
              "    <tr>\n",
              "      <th>753</th>\n",
              "      <td>3115-CZMZD</td>\n",
              "      <td>Male</td>\n",
              "      <td>0</td>\n",
              "      <td>No</td>\n",
              "      <td>Yes</td>\n",
              "      <td>0</td>\n",
              "      <td>Yes</td>\n",
              "      <td>No</td>\n",
              "      <td>No</td>\n",
              "      <td>No internet service</td>\n",
              "      <td>...</td>\n",
              "      <td>No internet service</td>\n",
              "      <td>No internet service</td>\n",
              "      <td>No internet service</td>\n",
              "      <td>No internet service</td>\n",
              "      <td>Two year</td>\n",
              "      <td>No</td>\n",
              "      <td>Mailed check</td>\n",
              "      <td>20.25</td>\n",
              "      <td></td>\n",
              "      <td>No</td>\n",
              "    </tr>\n",
              "    <tr>\n",
              "      <th>936</th>\n",
              "      <td>5709-LVOEQ</td>\n",
              "      <td>Female</td>\n",
              "      <td>0</td>\n",
              "      <td>Yes</td>\n",
              "      <td>Yes</td>\n",
              "      <td>0</td>\n",
              "      <td>Yes</td>\n",
              "      <td>No</td>\n",
              "      <td>DSL</td>\n",
              "      <td>Yes</td>\n",
              "      <td>...</td>\n",
              "      <td>Yes</td>\n",
              "      <td>No</td>\n",
              "      <td>Yes</td>\n",
              "      <td>Yes</td>\n",
              "      <td>Two year</td>\n",
              "      <td>No</td>\n",
              "      <td>Mailed check</td>\n",
              "      <td>80.85</td>\n",
              "      <td></td>\n",
              "      <td>No</td>\n",
              "    </tr>\n",
              "    <tr>\n",
              "      <th>1082</th>\n",
              "      <td>4367-NUYAO</td>\n",
              "      <td>Male</td>\n",
              "      <td>0</td>\n",
              "      <td>Yes</td>\n",
              "      <td>Yes</td>\n",
              "      <td>0</td>\n",
              "      <td>Yes</td>\n",
              "      <td>Yes</td>\n",
              "      <td>No</td>\n",
              "      <td>No internet service</td>\n",
              "      <td>...</td>\n",
              "      <td>No internet service</td>\n",
              "      <td>No internet service</td>\n",
              "      <td>No internet service</td>\n",
              "      <td>No internet service</td>\n",
              "      <td>Two year</td>\n",
              "      <td>No</td>\n",
              "      <td>Mailed check</td>\n",
              "      <td>25.75</td>\n",
              "      <td></td>\n",
              "      <td>No</td>\n",
              "    </tr>\n",
              "    <tr>\n",
              "      <th>1340</th>\n",
              "      <td>1371-DWPAZ</td>\n",
              "      <td>Female</td>\n",
              "      <td>0</td>\n",
              "      <td>Yes</td>\n",
              "      <td>Yes</td>\n",
              "      <td>0</td>\n",
              "      <td>No</td>\n",
              "      <td>No phone service</td>\n",
              "      <td>DSL</td>\n",
              "      <td>Yes</td>\n",
              "      <td>...</td>\n",
              "      <td>Yes</td>\n",
              "      <td>Yes</td>\n",
              "      <td>Yes</td>\n",
              "      <td>No</td>\n",
              "      <td>Two year</td>\n",
              "      <td>No</td>\n",
              "      <td>Credit card (automatic)</td>\n",
              "      <td>56.05</td>\n",
              "      <td></td>\n",
              "      <td>No</td>\n",
              "    </tr>\n",
              "    <tr>\n",
              "      <th>3331</th>\n",
              "      <td>7644-OMVMY</td>\n",
              "      <td>Male</td>\n",
              "      <td>0</td>\n",
              "      <td>Yes</td>\n",
              "      <td>Yes</td>\n",
              "      <td>0</td>\n",
              "      <td>Yes</td>\n",
              "      <td>No</td>\n",
              "      <td>No</td>\n",
              "      <td>No internet service</td>\n",
              "      <td>...</td>\n",
              "      <td>No internet service</td>\n",
              "      <td>No internet service</td>\n",
              "      <td>No internet service</td>\n",
              "      <td>No internet service</td>\n",
              "      <td>Two year</td>\n",
              "      <td>No</td>\n",
              "      <td>Mailed check</td>\n",
              "      <td>19.85</td>\n",
              "      <td></td>\n",
              "      <td>No</td>\n",
              "    </tr>\n",
              "    <tr>\n",
              "      <th>3826</th>\n",
              "      <td>3213-VVOLG</td>\n",
              "      <td>Male</td>\n",
              "      <td>0</td>\n",
              "      <td>Yes</td>\n",
              "      <td>Yes</td>\n",
              "      <td>0</td>\n",
              "      <td>Yes</td>\n",
              "      <td>Yes</td>\n",
              "      <td>No</td>\n",
              "      <td>No internet service</td>\n",
              "      <td>...</td>\n",
              "      <td>No internet service</td>\n",
              "      <td>No internet service</td>\n",
              "      <td>No internet service</td>\n",
              "      <td>No internet service</td>\n",
              "      <td>Two year</td>\n",
              "      <td>No</td>\n",
              "      <td>Mailed check</td>\n",
              "      <td>25.35</td>\n",
              "      <td></td>\n",
              "      <td>No</td>\n",
              "    </tr>\n",
              "    <tr>\n",
              "      <th>4380</th>\n",
              "      <td>2520-SGTTA</td>\n",
              "      <td>Female</td>\n",
              "      <td>0</td>\n",
              "      <td>Yes</td>\n",
              "      <td>Yes</td>\n",
              "      <td>0</td>\n",
              "      <td>Yes</td>\n",
              "      <td>No</td>\n",
              "      <td>No</td>\n",
              "      <td>No internet service</td>\n",
              "      <td>...</td>\n",
              "      <td>No internet service</td>\n",
              "      <td>No internet service</td>\n",
              "      <td>No internet service</td>\n",
              "      <td>No internet service</td>\n",
              "      <td>Two year</td>\n",
              "      <td>No</td>\n",
              "      <td>Mailed check</td>\n",
              "      <td>20.00</td>\n",
              "      <td></td>\n",
              "      <td>No</td>\n",
              "    </tr>\n",
              "    <tr>\n",
              "      <th>5218</th>\n",
              "      <td>2923-ARZLG</td>\n",
              "      <td>Male</td>\n",
              "      <td>0</td>\n",
              "      <td>Yes</td>\n",
              "      <td>Yes</td>\n",
              "      <td>0</td>\n",
              "      <td>Yes</td>\n",
              "      <td>No</td>\n",
              "      <td>No</td>\n",
              "      <td>No internet service</td>\n",
              "      <td>...</td>\n",
              "      <td>No internet service</td>\n",
              "      <td>No internet service</td>\n",
              "      <td>No internet service</td>\n",
              "      <td>No internet service</td>\n",
              "      <td>One year</td>\n",
              "      <td>Yes</td>\n",
              "      <td>Mailed check</td>\n",
              "      <td>19.70</td>\n",
              "      <td></td>\n",
              "      <td>No</td>\n",
              "    </tr>\n",
              "    <tr>\n",
              "      <th>6670</th>\n",
              "      <td>4075-WKNIU</td>\n",
              "      <td>Female</td>\n",
              "      <td>0</td>\n",
              "      <td>Yes</td>\n",
              "      <td>Yes</td>\n",
              "      <td>0</td>\n",
              "      <td>Yes</td>\n",
              "      <td>Yes</td>\n",
              "      <td>DSL</td>\n",
              "      <td>No</td>\n",
              "      <td>...</td>\n",
              "      <td>Yes</td>\n",
              "      <td>Yes</td>\n",
              "      <td>Yes</td>\n",
              "      <td>No</td>\n",
              "      <td>Two year</td>\n",
              "      <td>No</td>\n",
              "      <td>Mailed check</td>\n",
              "      <td>73.35</td>\n",
              "      <td></td>\n",
              "      <td>No</td>\n",
              "    </tr>\n",
              "    <tr>\n",
              "      <th>6754</th>\n",
              "      <td>2775-SEFEE</td>\n",
              "      <td>Male</td>\n",
              "      <td>0</td>\n",
              "      <td>No</td>\n",
              "      <td>Yes</td>\n",
              "      <td>0</td>\n",
              "      <td>Yes</td>\n",
              "      <td>Yes</td>\n",
              "      <td>DSL</td>\n",
              "      <td>Yes</td>\n",
              "      <td>...</td>\n",
              "      <td>No</td>\n",
              "      <td>Yes</td>\n",
              "      <td>No</td>\n",
              "      <td>No</td>\n",
              "      <td>Two year</td>\n",
              "      <td>Yes</td>\n",
              "      <td>Bank transfer (automatic)</td>\n",
              "      <td>61.90</td>\n",
              "      <td></td>\n",
              "      <td>No</td>\n",
              "    </tr>\n",
              "  </tbody>\n",
              "</table>\n",
              "<p>11 rows × 21 columns</p>\n",
              "</div>\n",
              "    <div class=\"colab-df-buttons\">\n",
              "\n",
              "  <div class=\"colab-df-container\">\n",
              "    <button class=\"colab-df-convert\" onclick=\"convertToInteractive('df-a5fe8eb6-aced-4258-9212-d3587d3cc353')\"\n",
              "            title=\"Convert this dataframe to an interactive table.\"\n",
              "            style=\"display:none;\">\n",
              "\n",
              "  <svg xmlns=\"http://www.w3.org/2000/svg\" height=\"24px\" viewBox=\"0 -960 960 960\">\n",
              "    <path d=\"M120-120v-720h720v720H120Zm60-500h600v-160H180v160Zm220 220h160v-160H400v160Zm0 220h160v-160H400v160ZM180-400h160v-160H180v160Zm440 0h160v-160H620v160ZM180-180h160v-160H180v160Zm440 0h160v-160H620v160Z\"/>\n",
              "  </svg>\n",
              "    </button>\n",
              "\n",
              "  <style>\n",
              "    .colab-df-container {\n",
              "      display:flex;\n",
              "      gap: 12px;\n",
              "    }\n",
              "\n",
              "    .colab-df-convert {\n",
              "      background-color: #E8F0FE;\n",
              "      border: none;\n",
              "      border-radius: 50%;\n",
              "      cursor: pointer;\n",
              "      display: none;\n",
              "      fill: #1967D2;\n",
              "      height: 32px;\n",
              "      padding: 0 0 0 0;\n",
              "      width: 32px;\n",
              "    }\n",
              "\n",
              "    .colab-df-convert:hover {\n",
              "      background-color: #E2EBFA;\n",
              "      box-shadow: 0px 1px 2px rgba(60, 64, 67, 0.3), 0px 1px 3px 1px rgba(60, 64, 67, 0.15);\n",
              "      fill: #174EA6;\n",
              "    }\n",
              "\n",
              "    .colab-df-buttons div {\n",
              "      margin-bottom: 4px;\n",
              "    }\n",
              "\n",
              "    [theme=dark] .colab-df-convert {\n",
              "      background-color: #3B4455;\n",
              "      fill: #D2E3FC;\n",
              "    }\n",
              "\n",
              "    [theme=dark] .colab-df-convert:hover {\n",
              "      background-color: #434B5C;\n",
              "      box-shadow: 0px 1px 3px 1px rgba(0, 0, 0, 0.15);\n",
              "      filter: drop-shadow(0px 1px 2px rgba(0, 0, 0, 0.3));\n",
              "      fill: #FFFFFF;\n",
              "    }\n",
              "  </style>\n",
              "\n",
              "    <script>\n",
              "      const buttonEl =\n",
              "        document.querySelector('#df-a5fe8eb6-aced-4258-9212-d3587d3cc353 button.colab-df-convert');\n",
              "      buttonEl.style.display =\n",
              "        google.colab.kernel.accessAllowed ? 'block' : 'none';\n",
              "\n",
              "      async function convertToInteractive(key) {\n",
              "        const element = document.querySelector('#df-a5fe8eb6-aced-4258-9212-d3587d3cc353');\n",
              "        const dataTable =\n",
              "          await google.colab.kernel.invokeFunction('convertToInteractive',\n",
              "                                                    [key], {});\n",
              "        if (!dataTable) return;\n",
              "\n",
              "        const docLinkHtml = 'Like what you see? Visit the ' +\n",
              "          '<a target=\"_blank\" href=https://colab.research.google.com/notebooks/data_table.ipynb>data table notebook</a>'\n",
              "          + ' to learn more about interactive tables.';\n",
              "        element.innerHTML = '';\n",
              "        dataTable['output_type'] = 'display_data';\n",
              "        await google.colab.output.renderOutput(dataTable, element);\n",
              "        const docLink = document.createElement('div');\n",
              "        docLink.innerHTML = docLinkHtml;\n",
              "        element.appendChild(docLink);\n",
              "      }\n",
              "    </script>\n",
              "  </div>\n",
              "\n",
              "\n",
              "<div id=\"df-117947b1-f181-4e46-b0b4-05a2f50f026a\">\n",
              "  <button class=\"colab-df-quickchart\" onclick=\"quickchart('df-117947b1-f181-4e46-b0b4-05a2f50f026a')\"\n",
              "            title=\"Suggest charts\"\n",
              "            style=\"display:none;\">\n",
              "\n",
              "<svg xmlns=\"http://www.w3.org/2000/svg\" height=\"24px\"viewBox=\"0 0 24 24\"\n",
              "     width=\"24px\">\n",
              "    <g>\n",
              "        <path d=\"M19 3H5c-1.1 0-2 .9-2 2v14c0 1.1.9 2 2 2h14c1.1 0 2-.9 2-2V5c0-1.1-.9-2-2-2zM9 17H7v-7h2v7zm4 0h-2V7h2v10zm4 0h-2v-4h2v4z\"/>\n",
              "    </g>\n",
              "</svg>\n",
              "  </button>\n",
              "\n",
              "<style>\n",
              "  .colab-df-quickchart {\n",
              "      --bg-color: #E8F0FE;\n",
              "      --fill-color: #1967D2;\n",
              "      --hover-bg-color: #E2EBFA;\n",
              "      --hover-fill-color: #174EA6;\n",
              "      --disabled-fill-color: #AAA;\n",
              "      --disabled-bg-color: #DDD;\n",
              "  }\n",
              "\n",
              "  [theme=dark] .colab-df-quickchart {\n",
              "      --bg-color: #3B4455;\n",
              "      --fill-color: #D2E3FC;\n",
              "      --hover-bg-color: #434B5C;\n",
              "      --hover-fill-color: #FFFFFF;\n",
              "      --disabled-bg-color: #3B4455;\n",
              "      --disabled-fill-color: #666;\n",
              "  }\n",
              "\n",
              "  .colab-df-quickchart {\n",
              "    background-color: var(--bg-color);\n",
              "    border: none;\n",
              "    border-radius: 50%;\n",
              "    cursor: pointer;\n",
              "    display: none;\n",
              "    fill: var(--fill-color);\n",
              "    height: 32px;\n",
              "    padding: 0;\n",
              "    width: 32px;\n",
              "  }\n",
              "\n",
              "  .colab-df-quickchart:hover {\n",
              "    background-color: var(--hover-bg-color);\n",
              "    box-shadow: 0 1px 2px rgba(60, 64, 67, 0.3), 0 1px 3px 1px rgba(60, 64, 67, 0.15);\n",
              "    fill: var(--button-hover-fill-color);\n",
              "  }\n",
              "\n",
              "  .colab-df-quickchart-complete:disabled,\n",
              "  .colab-df-quickchart-complete:disabled:hover {\n",
              "    background-color: var(--disabled-bg-color);\n",
              "    fill: var(--disabled-fill-color);\n",
              "    box-shadow: none;\n",
              "  }\n",
              "\n",
              "  .colab-df-spinner {\n",
              "    border: 2px solid var(--fill-color);\n",
              "    border-color: transparent;\n",
              "    border-bottom-color: var(--fill-color);\n",
              "    animation:\n",
              "      spin 1s steps(1) infinite;\n",
              "  }\n",
              "\n",
              "  @keyframes spin {\n",
              "    0% {\n",
              "      border-color: transparent;\n",
              "      border-bottom-color: var(--fill-color);\n",
              "      border-left-color: var(--fill-color);\n",
              "    }\n",
              "    20% {\n",
              "      border-color: transparent;\n",
              "      border-left-color: var(--fill-color);\n",
              "      border-top-color: var(--fill-color);\n",
              "    }\n",
              "    30% {\n",
              "      border-color: transparent;\n",
              "      border-left-color: var(--fill-color);\n",
              "      border-top-color: var(--fill-color);\n",
              "      border-right-color: var(--fill-color);\n",
              "    }\n",
              "    40% {\n",
              "      border-color: transparent;\n",
              "      border-right-color: var(--fill-color);\n",
              "      border-top-color: var(--fill-color);\n",
              "    }\n",
              "    60% {\n",
              "      border-color: transparent;\n",
              "      border-right-color: var(--fill-color);\n",
              "    }\n",
              "    80% {\n",
              "      border-color: transparent;\n",
              "      border-right-color: var(--fill-color);\n",
              "      border-bottom-color: var(--fill-color);\n",
              "    }\n",
              "    90% {\n",
              "      border-color: transparent;\n",
              "      border-bottom-color: var(--fill-color);\n",
              "    }\n",
              "  }\n",
              "</style>\n",
              "\n",
              "  <script>\n",
              "    async function quickchart(key) {\n",
              "      const quickchartButtonEl =\n",
              "        document.querySelector('#' + key + ' button');\n",
              "      quickchartButtonEl.disabled = true;  // To prevent multiple clicks.\n",
              "      quickchartButtonEl.classList.add('colab-df-spinner');\n",
              "      try {\n",
              "        const charts = await google.colab.kernel.invokeFunction(\n",
              "            'suggestCharts', [key], {});\n",
              "      } catch (error) {\n",
              "        console.error('Error during call to suggestCharts:', error);\n",
              "      }\n",
              "      quickchartButtonEl.classList.remove('colab-df-spinner');\n",
              "      quickchartButtonEl.classList.add('colab-df-quickchart-complete');\n",
              "    }\n",
              "    (() => {\n",
              "      let quickchartButtonEl =\n",
              "        document.querySelector('#df-117947b1-f181-4e46-b0b4-05a2f50f026a button');\n",
              "      quickchartButtonEl.style.display =\n",
              "        google.colab.kernel.accessAllowed ? 'block' : 'none';\n",
              "    })();\n",
              "  </script>\n",
              "</div>\n",
              "    </div>\n",
              "  </div>\n"
            ]
          },
          "metadata": {},
          "execution_count": 346
        }
      ],
      "source": [
        "data[data['TotalCharges'] == ' ']"
      ]
    },
    {
      "cell_type": "code",
      "execution_count": 347,
      "metadata": {
        "execution": {
          "iopub.execute_input": "2020-11-30T09:40:31.045960Z",
          "iopub.status.busy": "2020-11-30T09:40:31.045225Z",
          "iopub.status.idle": "2020-11-30T09:40:31.048314Z",
          "shell.execute_reply": "2020-11-30T09:40:31.047593Z"
        },
        "papermill": {
          "duration": 0.127749,
          "end_time": "2020-11-30T09:40:31.048468",
          "exception": false,
          "start_time": "2020-11-30T09:40:30.920719",
          "status": "completed"
        },
        "tags": [],
        "id": "6-XLTcvqclk2"
      },
      "outputs": [],
      "source": [
        "data['TotalCharges'] = data['TotalCharges'].replace(' ', np.nan)"
      ]
    },
    {
      "cell_type": "code",
      "execution_count": 348,
      "metadata": {
        "execution": {
          "iopub.execute_input": "2020-11-30T09:40:31.304581Z",
          "iopub.status.busy": "2020-11-30T09:40:31.303494Z",
          "iopub.status.idle": "2020-11-30T09:40:31.307605Z",
          "shell.execute_reply": "2020-11-30T09:40:31.308213Z"
        },
        "papermill": {
          "duration": 0.142414,
          "end_time": "2020-11-30T09:40:31.308382",
          "exception": false,
          "start_time": "2020-11-30T09:40:31.165968",
          "status": "completed"
        },
        "tags": [],
        "colab": {
          "base_uri": "https://localhost:8080/",
          "height": 99
        },
        "id": "91ZHz596clk2",
        "outputId": "176dc13d-b01b-47c0-c1e6-92dd8f56877c"
      },
      "outputs": [
        {
          "output_type": "execute_result",
          "data": {
            "text/plain": [
              "Empty DataFrame\n",
              "Columns: [customerID, gender, SeniorCitizen, Partner, Dependents, tenure, PhoneService, MultipleLines, InternetService, OnlineSecurity, OnlineBackup, DeviceProtection, TechSupport, StreamingTV, StreamingMovies, Contract, PaperlessBilling, PaymentMethod, MonthlyCharges, TotalCharges, Churn]\n",
              "Index: []\n",
              "\n",
              "[0 rows x 21 columns]"
            ],
            "text/html": [
              "\n",
              "  <div id=\"df-e2e3561e-2bcd-4f6c-a3d4-040f229fa1b7\" class=\"colab-df-container\">\n",
              "    <div>\n",
              "<style scoped>\n",
              "    .dataframe tbody tr th:only-of-type {\n",
              "        vertical-align: middle;\n",
              "    }\n",
              "\n",
              "    .dataframe tbody tr th {\n",
              "        vertical-align: top;\n",
              "    }\n",
              "\n",
              "    .dataframe thead th {\n",
              "        text-align: right;\n",
              "    }\n",
              "</style>\n",
              "<table border=\"1\" class=\"dataframe\">\n",
              "  <thead>\n",
              "    <tr style=\"text-align: right;\">\n",
              "      <th></th>\n",
              "      <th>customerID</th>\n",
              "      <th>gender</th>\n",
              "      <th>SeniorCitizen</th>\n",
              "      <th>Partner</th>\n",
              "      <th>Dependents</th>\n",
              "      <th>tenure</th>\n",
              "      <th>PhoneService</th>\n",
              "      <th>MultipleLines</th>\n",
              "      <th>InternetService</th>\n",
              "      <th>OnlineSecurity</th>\n",
              "      <th>...</th>\n",
              "      <th>DeviceProtection</th>\n",
              "      <th>TechSupport</th>\n",
              "      <th>StreamingTV</th>\n",
              "      <th>StreamingMovies</th>\n",
              "      <th>Contract</th>\n",
              "      <th>PaperlessBilling</th>\n",
              "      <th>PaymentMethod</th>\n",
              "      <th>MonthlyCharges</th>\n",
              "      <th>TotalCharges</th>\n",
              "      <th>Churn</th>\n",
              "    </tr>\n",
              "  </thead>\n",
              "  <tbody>\n",
              "  </tbody>\n",
              "</table>\n",
              "<p>0 rows × 21 columns</p>\n",
              "</div>\n",
              "    <div class=\"colab-df-buttons\">\n",
              "\n",
              "  <div class=\"colab-df-container\">\n",
              "    <button class=\"colab-df-convert\" onclick=\"convertToInteractive('df-e2e3561e-2bcd-4f6c-a3d4-040f229fa1b7')\"\n",
              "            title=\"Convert this dataframe to an interactive table.\"\n",
              "            style=\"display:none;\">\n",
              "\n",
              "  <svg xmlns=\"http://www.w3.org/2000/svg\" height=\"24px\" viewBox=\"0 -960 960 960\">\n",
              "    <path d=\"M120-120v-720h720v720H120Zm60-500h600v-160H180v160Zm220 220h160v-160H400v160Zm0 220h160v-160H400v160ZM180-400h160v-160H180v160Zm440 0h160v-160H620v160ZM180-180h160v-160H180v160Zm440 0h160v-160H620v160Z\"/>\n",
              "  </svg>\n",
              "    </button>\n",
              "\n",
              "  <style>\n",
              "    .colab-df-container {\n",
              "      display:flex;\n",
              "      gap: 12px;\n",
              "    }\n",
              "\n",
              "    .colab-df-convert {\n",
              "      background-color: #E8F0FE;\n",
              "      border: none;\n",
              "      border-radius: 50%;\n",
              "      cursor: pointer;\n",
              "      display: none;\n",
              "      fill: #1967D2;\n",
              "      height: 32px;\n",
              "      padding: 0 0 0 0;\n",
              "      width: 32px;\n",
              "    }\n",
              "\n",
              "    .colab-df-convert:hover {\n",
              "      background-color: #E2EBFA;\n",
              "      box-shadow: 0px 1px 2px rgba(60, 64, 67, 0.3), 0px 1px 3px 1px rgba(60, 64, 67, 0.15);\n",
              "      fill: #174EA6;\n",
              "    }\n",
              "\n",
              "    .colab-df-buttons div {\n",
              "      margin-bottom: 4px;\n",
              "    }\n",
              "\n",
              "    [theme=dark] .colab-df-convert {\n",
              "      background-color: #3B4455;\n",
              "      fill: #D2E3FC;\n",
              "    }\n",
              "\n",
              "    [theme=dark] .colab-df-convert:hover {\n",
              "      background-color: #434B5C;\n",
              "      box-shadow: 0px 1px 3px 1px rgba(0, 0, 0, 0.15);\n",
              "      filter: drop-shadow(0px 1px 2px rgba(0, 0, 0, 0.3));\n",
              "      fill: #FFFFFF;\n",
              "    }\n",
              "  </style>\n",
              "\n",
              "    <script>\n",
              "      const buttonEl =\n",
              "        document.querySelector('#df-e2e3561e-2bcd-4f6c-a3d4-040f229fa1b7 button.colab-df-convert');\n",
              "      buttonEl.style.display =\n",
              "        google.colab.kernel.accessAllowed ? 'block' : 'none';\n",
              "\n",
              "      async function convertToInteractive(key) {\n",
              "        const element = document.querySelector('#df-e2e3561e-2bcd-4f6c-a3d4-040f229fa1b7');\n",
              "        const dataTable =\n",
              "          await google.colab.kernel.invokeFunction('convertToInteractive',\n",
              "                                                    [key], {});\n",
              "        if (!dataTable) return;\n",
              "\n",
              "        const docLinkHtml = 'Like what you see? Visit the ' +\n",
              "          '<a target=\"_blank\" href=https://colab.research.google.com/notebooks/data_table.ipynb>data table notebook</a>'\n",
              "          + ' to learn more about interactive tables.';\n",
              "        element.innerHTML = '';\n",
              "        dataTable['output_type'] = 'display_data';\n",
              "        await google.colab.output.renderOutput(dataTable, element);\n",
              "        const docLink = document.createElement('div');\n",
              "        docLink.innerHTML = docLinkHtml;\n",
              "        element.appendChild(docLink);\n",
              "      }\n",
              "    </script>\n",
              "  </div>\n",
              "\n",
              "    </div>\n",
              "  </div>\n"
            ]
          },
          "metadata": {},
          "execution_count": 348
        }
      ],
      "source": [
        "data[data['TotalCharges'] == ' ']"
      ]
    },
    {
      "cell_type": "code",
      "execution_count": 349,
      "metadata": {
        "execution": {
          "iopub.execute_input": "2020-11-30T09:40:31.600396Z",
          "iopub.status.busy": "2020-11-30T09:40:31.599186Z",
          "iopub.status.idle": "2020-11-30T09:40:31.603362Z",
          "shell.execute_reply": "2020-11-30T09:40:31.604256Z"
        },
        "papermill": {
          "duration": 0.177964,
          "end_time": "2020-11-30T09:40:31.604476",
          "exception": false,
          "start_time": "2020-11-30T09:40:31.426512",
          "status": "completed"
        },
        "tags": [],
        "colab": {
          "base_uri": "https://localhost:8080/"
        },
        "id": "51-bmK6Iclk2",
        "outputId": "991a15bf-ae8e-4be6-f439-f2a8bf2dbf92"
      },
      "outputs": [
        {
          "output_type": "execute_result",
          "data": {
            "text/plain": [
              "11"
            ]
          },
          "metadata": {},
          "execution_count": 349
        }
      ],
      "source": [
        "data['TotalCharges'].isna().sum()"
      ]
    },
    {
      "cell_type": "code",
      "execution_count": 350,
      "metadata": {
        "execution": {
          "iopub.execute_input": "2020-11-30T09:40:31.861960Z",
          "iopub.status.busy": "2020-11-30T09:40:31.860931Z",
          "iopub.status.idle": "2020-11-30T09:40:31.866042Z",
          "shell.execute_reply": "2020-11-30T09:40:31.865444Z"
        },
        "papermill": {
          "duration": 0.133899,
          "end_time": "2020-11-30T09:40:31.866175",
          "exception": false,
          "start_time": "2020-11-30T09:40:31.732276",
          "status": "completed"
        },
        "tags": [],
        "id": "o0-jsX4Pclk2"
      },
      "outputs": [],
      "source": [
        "data['TotalCharges'] = pd.to_numeric(data['TotalCharges'])"
      ]
    },
    {
      "cell_type": "code",
      "execution_count": 351,
      "metadata": {
        "execution": {
          "iopub.execute_input": "2020-11-30T09:40:32.164163Z",
          "iopub.status.busy": "2020-11-30T09:40:32.162862Z",
          "iopub.status.idle": "2020-11-30T09:40:32.166777Z",
          "shell.execute_reply": "2020-11-30T09:40:32.167371Z"
        },
        "papermill": {
          "duration": 0.18126,
          "end_time": "2020-11-30T09:40:32.167527",
          "exception": false,
          "start_time": "2020-11-30T09:40:31.986267",
          "status": "completed"
        },
        "tags": [],
        "colab": {
          "base_uri": "https://localhost:8080/"
        },
        "id": "7A2j3B0bclk2",
        "outputId": "1d0b0f3c-efe9-46ee-f427-a39c2dbb64d7"
      },
      "outputs": [
        {
          "output_type": "execute_result",
          "data": {
            "text/plain": [
              "dtype('float64')"
            ]
          },
          "metadata": {},
          "execution_count": 351
        }
      ],
      "source": [
        "data['TotalCharges'].dtypes"
      ]
    },
    {
      "cell_type": "code",
      "execution_count": 352,
      "metadata": {
        "execution": {
          "iopub.execute_input": "2020-11-30T09:40:32.415675Z",
          "iopub.status.busy": "2020-11-30T09:40:32.414871Z",
          "iopub.status.idle": "2020-11-30T09:40:32.445008Z",
          "shell.execute_reply": "2020-11-30T09:40:32.443915Z"
        },
        "papermill": {
          "duration": 0.159118,
          "end_time": "2020-11-30T09:40:32.445175",
          "exception": false,
          "start_time": "2020-11-30T09:40:32.286057",
          "status": "completed"
        },
        "tags": [],
        "colab": {
          "base_uri": "https://localhost:8080/",
          "height": 175
        },
        "id": "MhvBkr22clk2",
        "outputId": "3e926e25-33a3-40a0-cc5b-1ff123cef7f8"
      },
      "outputs": [
        {
          "output_type": "execute_result",
          "data": {
            "text/plain": [
              "      MonthlyCharges                    tenure                TotalCharges  \\\n",
              "                 min     max       mean    min max       mean          min   \n",
              "Churn                                                                        \n",
              "No             18.25  118.75  61.265124      0  72  37.569965        18.80   \n",
              "Yes            18.85  118.35  74.441332      1  72  17.979133        18.85   \n",
              "\n",
              "                             \n",
              "           max         mean  \n",
              "Churn                        \n",
              "No     8672.45  2555.344141  \n",
              "Yes    8684.80  1531.796094  "
            ],
            "text/html": [
              "\n",
              "  <div id=\"df-a80b041e-a29f-4f4a-a818-122e8bc6dab0\" class=\"colab-df-container\">\n",
              "    <div>\n",
              "<style scoped>\n",
              "    .dataframe tbody tr th:only-of-type {\n",
              "        vertical-align: middle;\n",
              "    }\n",
              "\n",
              "    .dataframe tbody tr th {\n",
              "        vertical-align: top;\n",
              "    }\n",
              "\n",
              "    .dataframe thead tr th {\n",
              "        text-align: left;\n",
              "    }\n",
              "\n",
              "    .dataframe thead tr:last-of-type th {\n",
              "        text-align: right;\n",
              "    }\n",
              "</style>\n",
              "<table border=\"1\" class=\"dataframe\">\n",
              "  <thead>\n",
              "    <tr>\n",
              "      <th></th>\n",
              "      <th colspan=\"3\" halign=\"left\">MonthlyCharges</th>\n",
              "      <th colspan=\"3\" halign=\"left\">tenure</th>\n",
              "      <th colspan=\"3\" halign=\"left\">TotalCharges</th>\n",
              "    </tr>\n",
              "    <tr>\n",
              "      <th></th>\n",
              "      <th>min</th>\n",
              "      <th>max</th>\n",
              "      <th>mean</th>\n",
              "      <th>min</th>\n",
              "      <th>max</th>\n",
              "      <th>mean</th>\n",
              "      <th>min</th>\n",
              "      <th>max</th>\n",
              "      <th>mean</th>\n",
              "    </tr>\n",
              "    <tr>\n",
              "      <th>Churn</th>\n",
              "      <th></th>\n",
              "      <th></th>\n",
              "      <th></th>\n",
              "      <th></th>\n",
              "      <th></th>\n",
              "      <th></th>\n",
              "      <th></th>\n",
              "      <th></th>\n",
              "      <th></th>\n",
              "    </tr>\n",
              "  </thead>\n",
              "  <tbody>\n",
              "    <tr>\n",
              "      <th>No</th>\n",
              "      <td>18.25</td>\n",
              "      <td>118.75</td>\n",
              "      <td>61.265124</td>\n",
              "      <td>0</td>\n",
              "      <td>72</td>\n",
              "      <td>37.569965</td>\n",
              "      <td>18.80</td>\n",
              "      <td>8672.45</td>\n",
              "      <td>2555.344141</td>\n",
              "    </tr>\n",
              "    <tr>\n",
              "      <th>Yes</th>\n",
              "      <td>18.85</td>\n",
              "      <td>118.35</td>\n",
              "      <td>74.441332</td>\n",
              "      <td>1</td>\n",
              "      <td>72</td>\n",
              "      <td>17.979133</td>\n",
              "      <td>18.85</td>\n",
              "      <td>8684.80</td>\n",
              "      <td>1531.796094</td>\n",
              "    </tr>\n",
              "  </tbody>\n",
              "</table>\n",
              "</div>\n",
              "    <div class=\"colab-df-buttons\">\n",
              "\n",
              "  <div class=\"colab-df-container\">\n",
              "    <button class=\"colab-df-convert\" onclick=\"convertToInteractive('df-a80b041e-a29f-4f4a-a818-122e8bc6dab0')\"\n",
              "            title=\"Convert this dataframe to an interactive table.\"\n",
              "            style=\"display:none;\">\n",
              "\n",
              "  <svg xmlns=\"http://www.w3.org/2000/svg\" height=\"24px\" viewBox=\"0 -960 960 960\">\n",
              "    <path d=\"M120-120v-720h720v720H120Zm60-500h600v-160H180v160Zm220 220h160v-160H400v160Zm0 220h160v-160H400v160ZM180-400h160v-160H180v160Zm440 0h160v-160H620v160ZM180-180h160v-160H180v160Zm440 0h160v-160H620v160Z\"/>\n",
              "  </svg>\n",
              "    </button>\n",
              "\n",
              "  <style>\n",
              "    .colab-df-container {\n",
              "      display:flex;\n",
              "      gap: 12px;\n",
              "    }\n",
              "\n",
              "    .colab-df-convert {\n",
              "      background-color: #E8F0FE;\n",
              "      border: none;\n",
              "      border-radius: 50%;\n",
              "      cursor: pointer;\n",
              "      display: none;\n",
              "      fill: #1967D2;\n",
              "      height: 32px;\n",
              "      padding: 0 0 0 0;\n",
              "      width: 32px;\n",
              "    }\n",
              "\n",
              "    .colab-df-convert:hover {\n",
              "      background-color: #E2EBFA;\n",
              "      box-shadow: 0px 1px 2px rgba(60, 64, 67, 0.3), 0px 1px 3px 1px rgba(60, 64, 67, 0.15);\n",
              "      fill: #174EA6;\n",
              "    }\n",
              "\n",
              "    .colab-df-buttons div {\n",
              "      margin-bottom: 4px;\n",
              "    }\n",
              "\n",
              "    [theme=dark] .colab-df-convert {\n",
              "      background-color: #3B4455;\n",
              "      fill: #D2E3FC;\n",
              "    }\n",
              "\n",
              "    [theme=dark] .colab-df-convert:hover {\n",
              "      background-color: #434B5C;\n",
              "      box-shadow: 0px 1px 3px 1px rgba(0, 0, 0, 0.15);\n",
              "      filter: drop-shadow(0px 1px 2px rgba(0, 0, 0, 0.3));\n",
              "      fill: #FFFFFF;\n",
              "    }\n",
              "  </style>\n",
              "\n",
              "    <script>\n",
              "      const buttonEl =\n",
              "        document.querySelector('#df-a80b041e-a29f-4f4a-a818-122e8bc6dab0 button.colab-df-convert');\n",
              "      buttonEl.style.display =\n",
              "        google.colab.kernel.accessAllowed ? 'block' : 'none';\n",
              "\n",
              "      async function convertToInteractive(key) {\n",
              "        const element = document.querySelector('#df-a80b041e-a29f-4f4a-a818-122e8bc6dab0');\n",
              "        const dataTable =\n",
              "          await google.colab.kernel.invokeFunction('convertToInteractive',\n",
              "                                                    [key], {});\n",
              "        if (!dataTable) return;\n",
              "\n",
              "        const docLinkHtml = 'Like what you see? Visit the ' +\n",
              "          '<a target=\"_blank\" href=https://colab.research.google.com/notebooks/data_table.ipynb>data table notebook</a>'\n",
              "          + ' to learn more about interactive tables.';\n",
              "        element.innerHTML = '';\n",
              "        dataTable['output_type'] = 'display_data';\n",
              "        await google.colab.output.renderOutput(dataTable, element);\n",
              "        const docLink = document.createElement('div');\n",
              "        docLink.innerHTML = docLinkHtml;\n",
              "        element.appendChild(docLink);\n",
              "      }\n",
              "    </script>\n",
              "  </div>\n",
              "\n",
              "\n",
              "<div id=\"df-93be0a4d-1f1e-46db-b98d-70bf31e05509\">\n",
              "  <button class=\"colab-df-quickchart\" onclick=\"quickchart('df-93be0a4d-1f1e-46db-b98d-70bf31e05509')\"\n",
              "            title=\"Suggest charts\"\n",
              "            style=\"display:none;\">\n",
              "\n",
              "<svg xmlns=\"http://www.w3.org/2000/svg\" height=\"24px\"viewBox=\"0 0 24 24\"\n",
              "     width=\"24px\">\n",
              "    <g>\n",
              "        <path d=\"M19 3H5c-1.1 0-2 .9-2 2v14c0 1.1.9 2 2 2h14c1.1 0 2-.9 2-2V5c0-1.1-.9-2-2-2zM9 17H7v-7h2v7zm4 0h-2V7h2v10zm4 0h-2v-4h2v4z\"/>\n",
              "    </g>\n",
              "</svg>\n",
              "  </button>\n",
              "\n",
              "<style>\n",
              "  .colab-df-quickchart {\n",
              "      --bg-color: #E8F0FE;\n",
              "      --fill-color: #1967D2;\n",
              "      --hover-bg-color: #E2EBFA;\n",
              "      --hover-fill-color: #174EA6;\n",
              "      --disabled-fill-color: #AAA;\n",
              "      --disabled-bg-color: #DDD;\n",
              "  }\n",
              "\n",
              "  [theme=dark] .colab-df-quickchart {\n",
              "      --bg-color: #3B4455;\n",
              "      --fill-color: #D2E3FC;\n",
              "      --hover-bg-color: #434B5C;\n",
              "      --hover-fill-color: #FFFFFF;\n",
              "      --disabled-bg-color: #3B4455;\n",
              "      --disabled-fill-color: #666;\n",
              "  }\n",
              "\n",
              "  .colab-df-quickchart {\n",
              "    background-color: var(--bg-color);\n",
              "    border: none;\n",
              "    border-radius: 50%;\n",
              "    cursor: pointer;\n",
              "    display: none;\n",
              "    fill: var(--fill-color);\n",
              "    height: 32px;\n",
              "    padding: 0;\n",
              "    width: 32px;\n",
              "  }\n",
              "\n",
              "  .colab-df-quickchart:hover {\n",
              "    background-color: var(--hover-bg-color);\n",
              "    box-shadow: 0 1px 2px rgba(60, 64, 67, 0.3), 0 1px 3px 1px rgba(60, 64, 67, 0.15);\n",
              "    fill: var(--button-hover-fill-color);\n",
              "  }\n",
              "\n",
              "  .colab-df-quickchart-complete:disabled,\n",
              "  .colab-df-quickchart-complete:disabled:hover {\n",
              "    background-color: var(--disabled-bg-color);\n",
              "    fill: var(--disabled-fill-color);\n",
              "    box-shadow: none;\n",
              "  }\n",
              "\n",
              "  .colab-df-spinner {\n",
              "    border: 2px solid var(--fill-color);\n",
              "    border-color: transparent;\n",
              "    border-bottom-color: var(--fill-color);\n",
              "    animation:\n",
              "      spin 1s steps(1) infinite;\n",
              "  }\n",
              "\n",
              "  @keyframes spin {\n",
              "    0% {\n",
              "      border-color: transparent;\n",
              "      border-bottom-color: var(--fill-color);\n",
              "      border-left-color: var(--fill-color);\n",
              "    }\n",
              "    20% {\n",
              "      border-color: transparent;\n",
              "      border-left-color: var(--fill-color);\n",
              "      border-top-color: var(--fill-color);\n",
              "    }\n",
              "    30% {\n",
              "      border-color: transparent;\n",
              "      border-left-color: var(--fill-color);\n",
              "      border-top-color: var(--fill-color);\n",
              "      border-right-color: var(--fill-color);\n",
              "    }\n",
              "    40% {\n",
              "      border-color: transparent;\n",
              "      border-right-color: var(--fill-color);\n",
              "      border-top-color: var(--fill-color);\n",
              "    }\n",
              "    60% {\n",
              "      border-color: transparent;\n",
              "      border-right-color: var(--fill-color);\n",
              "    }\n",
              "    80% {\n",
              "      border-color: transparent;\n",
              "      border-right-color: var(--fill-color);\n",
              "      border-bottom-color: var(--fill-color);\n",
              "    }\n",
              "    90% {\n",
              "      border-color: transparent;\n",
              "      border-bottom-color: var(--fill-color);\n",
              "    }\n",
              "  }\n",
              "</style>\n",
              "\n",
              "  <script>\n",
              "    async function quickchart(key) {\n",
              "      const quickchartButtonEl =\n",
              "        document.querySelector('#' + key + ' button');\n",
              "      quickchartButtonEl.disabled = true;  // To prevent multiple clicks.\n",
              "      quickchartButtonEl.classList.add('colab-df-spinner');\n",
              "      try {\n",
              "        const charts = await google.colab.kernel.invokeFunction(\n",
              "            'suggestCharts', [key], {});\n",
              "      } catch (error) {\n",
              "        console.error('Error during call to suggestCharts:', error);\n",
              "      }\n",
              "      quickchartButtonEl.classList.remove('colab-df-spinner');\n",
              "      quickchartButtonEl.classList.add('colab-df-quickchart-complete');\n",
              "    }\n",
              "    (() => {\n",
              "      let quickchartButtonEl =\n",
              "        document.querySelector('#df-93be0a4d-1f1e-46db-b98d-70bf31e05509 button');\n",
              "      quickchartButtonEl.style.display =\n",
              "        google.colab.kernel.accessAllowed ? 'block' : 'none';\n",
              "    })();\n",
              "  </script>\n",
              "</div>\n",
              "    </div>\n",
              "  </div>\n"
            ]
          },
          "metadata": {},
          "execution_count": 352
        }
      ],
      "source": [
        "data.groupby('Churn')[['MonthlyCharges', 'tenure', 'TotalCharges']].agg(['min', 'max', 'mean'])"
      ]
    },
    {
      "cell_type": "markdown",
      "metadata": {
        "papermill": {
          "duration": 0.118549,
          "end_time": "2020-11-30T09:40:32.692077",
          "exception": false,
          "start_time": "2020-11-30T09:40:32.573528",
          "status": "completed"
        },
        "tags": [],
        "id": "EU_U2MMhclk2"
      },
      "source": [
        "Since, we have 11 null values in dataset, either we can fill them, or remove them. 11 is a low number, so I will drop them."
      ]
    },
    {
      "cell_type": "code",
      "execution_count": 353,
      "metadata": {
        "execution": {
          "iopub.execute_input": "2020-11-30T09:40:32.950173Z",
          "iopub.status.busy": "2020-11-30T09:40:32.949334Z",
          "iopub.status.idle": "2020-11-30T09:40:32.980514Z",
          "shell.execute_reply": "2020-11-30T09:40:32.979718Z"
        },
        "papermill": {
          "duration": 0.169237,
          "end_time": "2020-11-30T09:40:32.980639",
          "exception": false,
          "start_time": "2020-11-30T09:40:32.811402",
          "status": "completed"
        },
        "tags": [],
        "id": "a9MwLQQUclk2"
      },
      "outputs": [],
      "source": [
        "data.dropna(inplace = True)"
      ]
    },
    {
      "cell_type": "code",
      "execution_count": 354,
      "metadata": {
        "execution": {
          "iopub.execute_input": "2020-11-30T09:40:33.244600Z",
          "iopub.status.busy": "2020-11-30T09:40:33.243748Z",
          "iopub.status.idle": "2020-11-30T09:40:33.252061Z",
          "shell.execute_reply": "2020-11-30T09:40:33.251276Z"
        },
        "papermill": {
          "duration": 0.148947,
          "end_time": "2020-11-30T09:40:33.252209",
          "exception": false,
          "start_time": "2020-11-30T09:40:33.103262",
          "status": "completed"
        },
        "tags": [],
        "colab": {
          "base_uri": "https://localhost:8080/"
        },
        "id": "Mga44iTKclk2",
        "outputId": "7a9e3a88-2d44-4ba9-9deb-9e5d15758c58"
      },
      "outputs": [
        {
          "output_type": "execute_result",
          "data": {
            "text/plain": [
              "customerID          0\n",
              "gender              0\n",
              "SeniorCitizen       0\n",
              "Partner             0\n",
              "Dependents          0\n",
              "tenure              0\n",
              "PhoneService        0\n",
              "MultipleLines       0\n",
              "InternetService     0\n",
              "OnlineSecurity      0\n",
              "OnlineBackup        0\n",
              "DeviceProtection    0\n",
              "TechSupport         0\n",
              "StreamingTV         0\n",
              "StreamingMovies     0\n",
              "Contract            0\n",
              "PaperlessBilling    0\n",
              "PaymentMethod       0\n",
              "MonthlyCharges      0\n",
              "TotalCharges        0\n",
              "Churn               0\n",
              "dtype: int64"
            ]
          },
          "metadata": {},
          "execution_count": 354
        }
      ],
      "source": [
        "data.isna().sum()"
      ]
    },
    {
      "cell_type": "code",
      "execution_count": 355,
      "metadata": {
        "execution": {
          "iopub.execute_input": "2020-11-30T09:40:33.504274Z",
          "iopub.status.busy": "2020-11-30T09:40:33.503258Z",
          "iopub.status.idle": "2020-11-30T09:40:33.508446Z",
          "shell.execute_reply": "2020-11-30T09:40:33.507709Z"
        },
        "papermill": {
          "duration": 0.134611,
          "end_time": "2020-11-30T09:40:33.508567",
          "exception": false,
          "start_time": "2020-11-30T09:40:33.373956",
          "status": "completed"
        },
        "tags": [],
        "colab": {
          "base_uri": "https://localhost:8080/"
        },
        "id": "HUKdkMgtclk3",
        "outputId": "94a7037f-c6d4-4d0d-b7a4-0f3dbbbe6f55"
      },
      "outputs": [
        {
          "output_type": "execute_result",
          "data": {
            "text/plain": [
              "(7032, 21)"
            ]
          },
          "metadata": {},
          "execution_count": 355
        }
      ],
      "source": [
        "data.shape"
      ]
    },
    {
      "cell_type": "code",
      "execution_count": 356,
      "metadata": {
        "execution": {
          "iopub.execute_input": "2020-11-30T09:40:33.761044Z",
          "iopub.status.busy": "2020-11-30T09:40:33.760323Z",
          "iopub.status.idle": "2020-11-30T09:40:33.773584Z",
          "shell.execute_reply": "2020-11-30T09:40:33.772858Z"
        },
        "papermill": {
          "duration": 0.143452,
          "end_time": "2020-11-30T09:40:33.773711",
          "exception": false,
          "start_time": "2020-11-30T09:40:33.630259",
          "status": "completed"
        },
        "tags": [],
        "colab": {
          "base_uri": "https://localhost:8080/",
          "height": 143
        },
        "id": "RlkRQjbjclk3",
        "outputId": "7f4256dd-7f99-42d4-e0ce-0b14a28e5a47"
      },
      "outputs": [
        {
          "output_type": "execute_result",
          "data": {
            "text/plain": [
              "       OnlineBackup  OnlineSecurity  PhoneService\n",
              "Churn                                            \n",
              "No             5163            5163          5163\n",
              "Yes            1869            1869          1869"
            ],
            "text/html": [
              "\n",
              "  <div id=\"df-c69c413f-30fb-4165-9c2a-e849713efd0d\" class=\"colab-df-container\">\n",
              "    <div>\n",
              "<style scoped>\n",
              "    .dataframe tbody tr th:only-of-type {\n",
              "        vertical-align: middle;\n",
              "    }\n",
              "\n",
              "    .dataframe tbody tr th {\n",
              "        vertical-align: top;\n",
              "    }\n",
              "\n",
              "    .dataframe thead th {\n",
              "        text-align: right;\n",
              "    }\n",
              "</style>\n",
              "<table border=\"1\" class=\"dataframe\">\n",
              "  <thead>\n",
              "    <tr style=\"text-align: right;\">\n",
              "      <th></th>\n",
              "      <th>OnlineBackup</th>\n",
              "      <th>OnlineSecurity</th>\n",
              "      <th>PhoneService</th>\n",
              "    </tr>\n",
              "    <tr>\n",
              "      <th>Churn</th>\n",
              "      <th></th>\n",
              "      <th></th>\n",
              "      <th></th>\n",
              "    </tr>\n",
              "  </thead>\n",
              "  <tbody>\n",
              "    <tr>\n",
              "      <th>No</th>\n",
              "      <td>5163</td>\n",
              "      <td>5163</td>\n",
              "      <td>5163</td>\n",
              "    </tr>\n",
              "    <tr>\n",
              "      <th>Yes</th>\n",
              "      <td>1869</td>\n",
              "      <td>1869</td>\n",
              "      <td>1869</td>\n",
              "    </tr>\n",
              "  </tbody>\n",
              "</table>\n",
              "</div>\n",
              "    <div class=\"colab-df-buttons\">\n",
              "\n",
              "  <div class=\"colab-df-container\">\n",
              "    <button class=\"colab-df-convert\" onclick=\"convertToInteractive('df-c69c413f-30fb-4165-9c2a-e849713efd0d')\"\n",
              "            title=\"Convert this dataframe to an interactive table.\"\n",
              "            style=\"display:none;\">\n",
              "\n",
              "  <svg xmlns=\"http://www.w3.org/2000/svg\" height=\"24px\" viewBox=\"0 -960 960 960\">\n",
              "    <path d=\"M120-120v-720h720v720H120Zm60-500h600v-160H180v160Zm220 220h160v-160H400v160Zm0 220h160v-160H400v160ZM180-400h160v-160H180v160Zm440 0h160v-160H620v160ZM180-180h160v-160H180v160Zm440 0h160v-160H620v160Z\"/>\n",
              "  </svg>\n",
              "    </button>\n",
              "\n",
              "  <style>\n",
              "    .colab-df-container {\n",
              "      display:flex;\n",
              "      gap: 12px;\n",
              "    }\n",
              "\n",
              "    .colab-df-convert {\n",
              "      background-color: #E8F0FE;\n",
              "      border: none;\n",
              "      border-radius: 50%;\n",
              "      cursor: pointer;\n",
              "      display: none;\n",
              "      fill: #1967D2;\n",
              "      height: 32px;\n",
              "      padding: 0 0 0 0;\n",
              "      width: 32px;\n",
              "    }\n",
              "\n",
              "    .colab-df-convert:hover {\n",
              "      background-color: #E2EBFA;\n",
              "      box-shadow: 0px 1px 2px rgba(60, 64, 67, 0.3), 0px 1px 3px 1px rgba(60, 64, 67, 0.15);\n",
              "      fill: #174EA6;\n",
              "    }\n",
              "\n",
              "    .colab-df-buttons div {\n",
              "      margin-bottom: 4px;\n",
              "    }\n",
              "\n",
              "    [theme=dark] .colab-df-convert {\n",
              "      background-color: #3B4455;\n",
              "      fill: #D2E3FC;\n",
              "    }\n",
              "\n",
              "    [theme=dark] .colab-df-convert:hover {\n",
              "      background-color: #434B5C;\n",
              "      box-shadow: 0px 1px 3px 1px rgba(0, 0, 0, 0.15);\n",
              "      filter: drop-shadow(0px 1px 2px rgba(0, 0, 0, 0.3));\n",
              "      fill: #FFFFFF;\n",
              "    }\n",
              "  </style>\n",
              "\n",
              "    <script>\n",
              "      const buttonEl =\n",
              "        document.querySelector('#df-c69c413f-30fb-4165-9c2a-e849713efd0d button.colab-df-convert');\n",
              "      buttonEl.style.display =\n",
              "        google.colab.kernel.accessAllowed ? 'block' : 'none';\n",
              "\n",
              "      async function convertToInteractive(key) {\n",
              "        const element = document.querySelector('#df-c69c413f-30fb-4165-9c2a-e849713efd0d');\n",
              "        const dataTable =\n",
              "          await google.colab.kernel.invokeFunction('convertToInteractive',\n",
              "                                                    [key], {});\n",
              "        if (!dataTable) return;\n",
              "\n",
              "        const docLinkHtml = 'Like what you see? Visit the ' +\n",
              "          '<a target=\"_blank\" href=https://colab.research.google.com/notebooks/data_table.ipynb>data table notebook</a>'\n",
              "          + ' to learn more about interactive tables.';\n",
              "        element.innerHTML = '';\n",
              "        dataTable['output_type'] = 'display_data';\n",
              "        await google.colab.output.renderOutput(dataTable, element);\n",
              "        const docLink = document.createElement('div');\n",
              "        docLink.innerHTML = docLinkHtml;\n",
              "        element.appendChild(docLink);\n",
              "      }\n",
              "    </script>\n",
              "  </div>\n",
              "\n",
              "\n",
              "<div id=\"df-95ecfe55-e4d4-4e47-ad94-ad97d8f34693\">\n",
              "  <button class=\"colab-df-quickchart\" onclick=\"quickchart('df-95ecfe55-e4d4-4e47-ad94-ad97d8f34693')\"\n",
              "            title=\"Suggest charts\"\n",
              "            style=\"display:none;\">\n",
              "\n",
              "<svg xmlns=\"http://www.w3.org/2000/svg\" height=\"24px\"viewBox=\"0 0 24 24\"\n",
              "     width=\"24px\">\n",
              "    <g>\n",
              "        <path d=\"M19 3H5c-1.1 0-2 .9-2 2v14c0 1.1.9 2 2 2h14c1.1 0 2-.9 2-2V5c0-1.1-.9-2-2-2zM9 17H7v-7h2v7zm4 0h-2V7h2v10zm4 0h-2v-4h2v4z\"/>\n",
              "    </g>\n",
              "</svg>\n",
              "  </button>\n",
              "\n",
              "<style>\n",
              "  .colab-df-quickchart {\n",
              "      --bg-color: #E8F0FE;\n",
              "      --fill-color: #1967D2;\n",
              "      --hover-bg-color: #E2EBFA;\n",
              "      --hover-fill-color: #174EA6;\n",
              "      --disabled-fill-color: #AAA;\n",
              "      --disabled-bg-color: #DDD;\n",
              "  }\n",
              "\n",
              "  [theme=dark] .colab-df-quickchart {\n",
              "      --bg-color: #3B4455;\n",
              "      --fill-color: #D2E3FC;\n",
              "      --hover-bg-color: #434B5C;\n",
              "      --hover-fill-color: #FFFFFF;\n",
              "      --disabled-bg-color: #3B4455;\n",
              "      --disabled-fill-color: #666;\n",
              "  }\n",
              "\n",
              "  .colab-df-quickchart {\n",
              "    background-color: var(--bg-color);\n",
              "    border: none;\n",
              "    border-radius: 50%;\n",
              "    cursor: pointer;\n",
              "    display: none;\n",
              "    fill: var(--fill-color);\n",
              "    height: 32px;\n",
              "    padding: 0;\n",
              "    width: 32px;\n",
              "  }\n",
              "\n",
              "  .colab-df-quickchart:hover {\n",
              "    background-color: var(--hover-bg-color);\n",
              "    box-shadow: 0 1px 2px rgba(60, 64, 67, 0.3), 0 1px 3px 1px rgba(60, 64, 67, 0.15);\n",
              "    fill: var(--button-hover-fill-color);\n",
              "  }\n",
              "\n",
              "  .colab-df-quickchart-complete:disabled,\n",
              "  .colab-df-quickchart-complete:disabled:hover {\n",
              "    background-color: var(--disabled-bg-color);\n",
              "    fill: var(--disabled-fill-color);\n",
              "    box-shadow: none;\n",
              "  }\n",
              "\n",
              "  .colab-df-spinner {\n",
              "    border: 2px solid var(--fill-color);\n",
              "    border-color: transparent;\n",
              "    border-bottom-color: var(--fill-color);\n",
              "    animation:\n",
              "      spin 1s steps(1) infinite;\n",
              "  }\n",
              "\n",
              "  @keyframes spin {\n",
              "    0% {\n",
              "      border-color: transparent;\n",
              "      border-bottom-color: var(--fill-color);\n",
              "      border-left-color: var(--fill-color);\n",
              "    }\n",
              "    20% {\n",
              "      border-color: transparent;\n",
              "      border-left-color: var(--fill-color);\n",
              "      border-top-color: var(--fill-color);\n",
              "    }\n",
              "    30% {\n",
              "      border-color: transparent;\n",
              "      border-left-color: var(--fill-color);\n",
              "      border-top-color: var(--fill-color);\n",
              "      border-right-color: var(--fill-color);\n",
              "    }\n",
              "    40% {\n",
              "      border-color: transparent;\n",
              "      border-right-color: var(--fill-color);\n",
              "      border-top-color: var(--fill-color);\n",
              "    }\n",
              "    60% {\n",
              "      border-color: transparent;\n",
              "      border-right-color: var(--fill-color);\n",
              "    }\n",
              "    80% {\n",
              "      border-color: transparent;\n",
              "      border-right-color: var(--fill-color);\n",
              "      border-bottom-color: var(--fill-color);\n",
              "    }\n",
              "    90% {\n",
              "      border-color: transparent;\n",
              "      border-bottom-color: var(--fill-color);\n",
              "    }\n",
              "  }\n",
              "</style>\n",
              "\n",
              "  <script>\n",
              "    async function quickchart(key) {\n",
              "      const quickchartButtonEl =\n",
              "        document.querySelector('#' + key + ' button');\n",
              "      quickchartButtonEl.disabled = true;  // To prevent multiple clicks.\n",
              "      quickchartButtonEl.classList.add('colab-df-spinner');\n",
              "      try {\n",
              "        const charts = await google.colab.kernel.invokeFunction(\n",
              "            'suggestCharts', [key], {});\n",
              "      } catch (error) {\n",
              "        console.error('Error during call to suggestCharts:', error);\n",
              "      }\n",
              "      quickchartButtonEl.classList.remove('colab-df-spinner');\n",
              "      quickchartButtonEl.classList.add('colab-df-quickchart-complete');\n",
              "    }\n",
              "    (() => {\n",
              "      let quickchartButtonEl =\n",
              "        document.querySelector('#df-95ecfe55-e4d4-4e47-ad94-ad97d8f34693 button');\n",
              "      quickchartButtonEl.style.display =\n",
              "        google.colab.kernel.accessAllowed ? 'block' : 'none';\n",
              "    })();\n",
              "  </script>\n",
              "</div>\n",
              "    </div>\n",
              "  </div>\n"
            ]
          },
          "metadata": {},
          "execution_count": 356
        }
      ],
      "source": [
        "data.groupby('Churn')[['OnlineBackup', 'OnlineSecurity', 'PhoneService']].count()"
      ]
    },
    {
      "cell_type": "code",
      "execution_count": 423,
      "metadata": {
        "execution": {
          "iopub.execute_input": "2020-11-30T09:40:34.028141Z",
          "iopub.status.busy": "2020-11-30T09:40:34.026931Z",
          "iopub.status.idle": "2020-11-30T09:40:34.029559Z",
          "shell.execute_reply": "2020-11-30T09:40:34.030090Z"
        },
        "papermill": {
          "duration": 0.13537,
          "end_time": "2020-11-30T09:40:34.030290",
          "exception": false,
          "start_time": "2020-11-30T09:40:33.894920",
          "status": "completed"
        },
        "tags": [],
        "id": "zp0sZmEXclk3"
      },
      "outputs": [],
      "source": [
        "def half_corr_heatmap(data, title=None):\n",
        "    plt.figure(figsize=(9,9))\n",
        "    sns.set(font_scale=1)\n",
        "\n",
        "    mask = np.zeros_like(data.corr())\n",
        "    mask[np.tril_indices_from(mask)] = True\n",
        "\n",
        "    with sns.axes_style(\"white\"):\n",
        "        sns.heatmap(data.corr(), mask=mask, annot=True, cmap=\"coolwarm\")\n",
        "\n",
        "    if title: plt.title(f\"\\n{title}\\n\", fontsize=10)\n",
        "    plt.show()\n",
        "    return"
      ]
    },
    {
      "cell_type": "code",
      "execution_count": 425,
      "metadata": {
        "execution": {
          "iopub.execute_input": "2020-11-30T09:40:34.278634Z",
          "iopub.status.busy": "2020-11-30T09:40:34.277853Z",
          "iopub.status.idle": "2020-11-30T09:40:34.672673Z",
          "shell.execute_reply": "2020-11-30T09:40:34.672013Z"
        },
        "papermill": {
          "duration": 0.521145,
          "end_time": "2020-11-30T09:40:34.672820",
          "exception": false,
          "start_time": "2020-11-30T09:40:34.151675",
          "status": "completed"
        },
        "tags": [],
        "colab": {
          "base_uri": "https://localhost:8080/",
          "height": 845
        },
        "id": "_QGJ7lnPclk3",
        "outputId": "713fd157-7abf-4e42-943a-55c1174c458a"
      },
      "outputs": [
        {
          "output_type": "display_data",
          "data": {
            "text/plain": [
              "<Figure size 900x900 with 2 Axes>"
            ],
            "image/png": "[encoded data removed]"
          },
          "metadata": {}
        }
      ],
      "source": [
        "half_corr_heatmap(data, 'Correlation Between Variables')\n",
        "figsize = (5, 5)"
      ]
    },
    {
      "cell_type": "markdown",
      "metadata": {
        "papermill": {
          "duration": 0.136184,
          "end_time": "2020-11-30T09:40:34.947166",
          "exception": false,
          "start_time": "2020-11-30T09:40:34.810982",
          "status": "completed"
        },
        "tags": [],
        "id": "7yt0G64dclk3"
      },
      "source": [
        "**Churn columns is not there because its dtype is object. Converting objects into a numeric.**"
      ]
    },
    {
      "cell_type": "code",
      "execution_count": 420,
      "metadata": {
        "execution": {
          "iopub.execute_input": "2020-11-30T09:40:35.204722Z",
          "iopub.status.busy": "2020-11-30T09:40:35.203787Z",
          "iopub.status.idle": "2020-11-30T09:40:35.208667Z",
          "shell.execute_reply": "2020-11-30T09:40:35.207921Z"
        },
        "papermill": {
          "duration": 0.137222,
          "end_time": "2020-11-30T09:40:35.208804",
          "exception": false,
          "start_time": "2020-11-30T09:40:35.071582",
          "status": "completed"
        },
        "tags": [],
        "id": "rDuzeniyclk3"
      },
      "outputs": [],
      "source": [
        "data['Churn'] = data['Churn'].map({'Yes' : 1, 'No' : 0})"
      ]
    },
    {
      "cell_type": "code",
      "execution_count": 422,
      "metadata": {
        "execution": {
          "iopub.execute_input": "2020-11-30T09:40:35.466734Z",
          "iopub.status.busy": "2020-11-30T09:40:35.465587Z",
          "iopub.status.idle": "2020-11-30T09:40:35.803464Z",
          "shell.execute_reply": "2020-11-30T09:40:35.802723Z"
        },
        "papermill": {
          "duration": 0.470612,
          "end_time": "2020-11-30T09:40:35.803587",
          "exception": false,
          "start_time": "2020-11-30T09:40:35.332975",
          "status": "completed"
        },
        "tags": [],
        "colab": {
          "base_uri": "https://localhost:8080/",
          "height": 877
        },
        "id": "Qdx0oFU2clk3",
        "outputId": "a29b7b3a-7271-4602-ac45-895d0577eed8"
      },
      "outputs": [
        {
          "output_type": "display_data",
          "data": {
            "text/plain": [
              "<Figure size 900x900 with 2 Axes>"
            ],
            "image/png": "[encoded data removed]"
          },
          "metadata": {}
        }
      ],
      "source": [
        "half_corr_heatmap(data, 'Correlation Between Variables' )\n"
      ]
    },
    {
      "cell_type": "code",
      "execution_count": 415,
      "metadata": {
        "execution": {
          "iopub.execute_input": "2020-11-30T09:40:36.062941Z",
          "iopub.status.busy": "2020-11-30T09:40:36.062137Z",
          "iopub.status.idle": "2020-11-30T09:40:36.065218Z",
          "shell.execute_reply": "2020-11-30T09:40:36.064476Z"
        },
        "papermill": {
          "duration": 0.137219,
          "end_time": "2020-11-30T09:40:36.065381",
          "exception": false,
          "start_time": "2020-11-30T09:40:35.928162",
          "status": "completed"
        },
        "tags": [],
        "id": "x0fRx3CEclk3"
      },
      "outputs": [],
      "source": [
        "def corr_for_target(data, target, title=None):\n",
        "    plt.figure(figsize=(5,4))\n",
        "    sns.set(font_scale=1)\n",
        "\n",
        "    sns.heatmap(data.corr()[[target]].sort_values(target, ascending=False)[1:], annot=True, cmap=\"coolwarm\",)\n",
        "\n",
        "    if title: plt.title(f\"\\n{title}\\n\", fontsize=18)\n",
        "    return"
      ]
    },
    {
      "cell_type": "code",
      "execution_count": 416,
      "metadata": {
        "execution": {
          "iopub.execute_input": "2020-11-30T09:40:36.326738Z",
          "iopub.status.busy": "2020-11-30T09:40:36.325831Z",
          "iopub.status.idle": "2020-11-30T09:40:36.614956Z",
          "shell.execute_reply": "2020-11-30T09:40:36.613981Z"
        },
        "papermill": {
          "duration": 0.423011,
          "end_time": "2020-11-30T09:40:36.615102",
          "exception": false,
          "start_time": "2020-11-30T09:40:36.192091",
          "status": "completed"
        },
        "tags": [],
        "colab": {
          "base_uri": "https://localhost:8080/",
          "height": 472
        },
        "id": "T3_5nrNdclk3",
        "outputId": "cf23dce6-4cce-44f1-92cd-cb09fca47355"
      },
      "outputs": [
        {
          "output_type": "display_data",
          "data": {
            "text/plain": [
              "<Figure size 500x400 with 2 Axes>"
            ],
            "image/png": "[encoded data removed]"
          },
          "metadata": {}
        }
      ],
      "source": [
        "corr_for_target(data, 'Churn', 'Correlation Between Target')"
      ]
    },
    {
      "cell_type": "code",
      "execution_count": 365,
      "metadata": {
        "execution": {
          "iopub.execute_input": "2020-11-30T09:40:37.899731Z",
          "iopub.status.busy": "2020-11-30T09:40:37.898883Z",
          "iopub.status.idle": "2020-11-30T09:40:37.904675Z",
          "shell.execute_reply": "2020-11-30T09:40:37.904012Z"
        },
        "papermill": {
          "duration": 0.146658,
          "end_time": "2020-11-30T09:40:37.904813",
          "exception": false,
          "start_time": "2020-11-30T09:40:37.758155",
          "status": "completed"
        },
        "tags": [],
        "id": "sjOmMaO8clk3"
      },
      "outputs": [],
      "source": [
        "data2 = data.drop(['customerID'], axis = 1)"
      ]
    },
    {
      "cell_type": "markdown",
      "metadata": {
        "papermill": {
          "duration": 0.129631,
          "end_time": "2020-11-30T09:40:38.164440",
          "exception": false,
          "start_time": "2020-11-30T09:40:38.034809",
          "status": "completed"
        },
        "tags": [],
        "id": "x6ht3zWTclk3"
      },
      "source": [
        "To observe numerical, and numeric columns:"
      ]
    },
    {
      "cell_type": "code",
      "execution_count": 366,
      "metadata": {
        "execution": {
          "iopub.execute_input": "2020-11-30T09:40:38.434085Z",
          "iopub.status.busy": "2020-11-30T09:40:38.433252Z",
          "iopub.status.idle": "2020-11-30T09:40:38.446899Z",
          "shell.execute_reply": "2020-11-30T09:40:38.445999Z"
        },
        "papermill": {
          "duration": 0.151487,
          "end_time": "2020-11-30T09:40:38.447034",
          "exception": false,
          "start_time": "2020-11-30T09:40:38.295547",
          "status": "completed"
        },
        "tags": [],
        "colab": {
          "base_uri": "https://localhost:8080/"
        },
        "id": "hO2fetbpclk4",
        "outputId": "1e778ea4-637a-4917-850b-6c89abc3979e"
      },
      "outputs": [
        {
          "output_type": "stream",
          "name": "stdout",
          "text": [
            "Numerical: Index(['SeniorCitizen', 'tenure', 'MonthlyCharges', 'TotalCharges', 'Churn'], dtype='object')\n",
            "\n",
            "Categorical: Index(['Contract', 'Dependents', 'DeviceProtection', 'InternetService',\n",
            "       'MultipleLines', 'OnlineBackup', 'OnlineSecurity', 'PaperlessBilling',\n",
            "       'Partner', 'PaymentMethod', 'PhoneService', 'StreamingMovies',\n",
            "       'StreamingTV', 'TechSupport', 'gender'],\n",
            "      dtype='object')\n"
          ]
        }
      ],
      "source": [
        "numerical = data2.select_dtypes(['number']).columns\n",
        "print(f'Numerical: {numerical}\\n')\n",
        "\n",
        "categorical = data2.columns.difference(numerical)\n",
        "\n",
        "data2[categorical] = data2[categorical].astype('object')\n",
        "print(f'Categorical: {categorical}')"
      ]
    },
    {
      "cell_type": "markdown",
      "metadata": {
        "papermill": {
          "duration": 0.145656,
          "end_time": "2020-11-30T09:40:38.742113",
          "exception": false,
          "start_time": "2020-11-30T09:40:38.596457",
          "status": "completed"
        },
        "tags": [],
        "id": "F6X1g7LCclk4"
      },
      "source": [
        "Creating ones, and zeros from categorical variables:"
      ]
    },
    {
      "cell_type": "code",
      "execution_count": 367,
      "metadata": {
        "execution": {
          "iopub.execute_input": "2020-11-30T09:40:39.038184Z",
          "iopub.status.busy": "2020-11-30T09:40:39.035041Z",
          "iopub.status.idle": "2020-11-30T09:40:39.070353Z",
          "shell.execute_reply": "2020-11-30T09:40:39.069546Z"
        },
        "papermill": {
          "duration": 0.182383,
          "end_time": "2020-11-30T09:40:39.070491",
          "exception": false,
          "start_time": "2020-11-30T09:40:38.888108",
          "status": "completed"
        },
        "tags": [],
        "id": "JVQNZzC9clk4"
      },
      "outputs": [],
      "source": [
        "data2 = pd.get_dummies(data2)"
      ]
    },
    {
      "cell_type": "code",
      "execution_count": 368,
      "metadata": {
        "execution": {
          "iopub.execute_input": "2020-11-30T09:40:39.357737Z",
          "iopub.status.busy": "2020-11-30T09:40:39.336780Z",
          "iopub.status.idle": "2020-11-30T09:40:39.366131Z",
          "shell.execute_reply": "2020-11-30T09:40:39.365356Z"
        },
        "papermill": {
          "duration": 0.164854,
          "end_time": "2020-11-30T09:40:39.366280",
          "exception": false,
          "start_time": "2020-11-30T09:40:39.201426",
          "status": "completed"
        },
        "tags": [],
        "colab": {
          "base_uri": "https://localhost:8080/",
          "height": 290
        },
        "id": "2Hj2qdQEclk4",
        "outputId": "886daef7-c751-4247-e813-7d07e2844a00"
      },
      "outputs": [
        {
          "output_type": "execute_result",
          "data": {
            "text/plain": [
              "   SeniorCitizen  tenure  MonthlyCharges  TotalCharges  Churn  gender_Female  \\\n",
              "0              0       1           29.85         29.85      0              1   \n",
              "1              0      34           56.95       1889.50      0              0   \n",
              "2              0       2           53.85        108.15      1              0   \n",
              "3              0      45           42.30       1840.75      0              0   \n",
              "4              0       2           70.70        151.65      1              1   \n",
              "\n",
              "   gender_Male  Partner_No  Partner_Yes  Dependents_No  ...  \\\n",
              "0            0           0            1              1  ...   \n",
              "1            1           1            0              1  ...   \n",
              "2            1           1            0              1  ...   \n",
              "3            1           1            0              1  ...   \n",
              "4            0           1            0              1  ...   \n",
              "\n",
              "   StreamingMovies_Yes  Contract_Month-to-month  Contract_One year  \\\n",
              "0                    0                        1                  0   \n",
              "1                    0                        0                  1   \n",
              "2                    0                        1                  0   \n",
              "3                    0                        0                  1   \n",
              "4                    0                        1                  0   \n",
              "\n",
              "   Contract_Two year  PaperlessBilling_No  PaperlessBilling_Yes  \\\n",
              "0                  0                    0                     1   \n",
              "1                  0                    1                     0   \n",
              "2                  0                    0                     1   \n",
              "3                  0                    1                     0   \n",
              "4                  0                    0                     1   \n",
              "\n",
              "   PaymentMethod_Bank transfer (automatic)  \\\n",
              "0                                        0   \n",
              "1                                        0   \n",
              "2                                        0   \n",
              "3                                        1   \n",
              "4                                        0   \n",
              "\n",
              "   PaymentMethod_Credit card (automatic)  PaymentMethod_Electronic check  \\\n",
              "0                                      0                               1   \n",
              "1                                      0                               0   \n",
              "2                                      0                               0   \n",
              "3                                      0                               0   \n",
              "4                                      0                               1   \n",
              "\n",
              "   PaymentMethod_Mailed check  \n",
              "0                           0  \n",
              "1                           1  \n",
              "2                           1  \n",
              "3                           0  \n",
              "4                           0  \n",
              "\n",
              "[5 rows x 46 columns]"
            ],
            "text/html": [
              "\n",
              "  <div id=\"df-eca1dac0-b6e3-46e9-8a70-7aa8aca529a4\" class=\"colab-df-container\">\n",
              "    <div>\n",
              "<style scoped>\n",
              "    .dataframe tbody tr th:only-of-type {\n",
              "        vertical-align: middle;\n",
              "    }\n",
              "\n",
              "    .dataframe tbody tr th {\n",
              "        vertical-align: top;\n",
              "    }\n",
              "\n",
              "    .dataframe thead th {\n",
              "        text-align: right;\n",
              "    }\n",
              "</style>\n",
              "<table border=\"1\" class=\"dataframe\">\n",
              "  <thead>\n",
              "    <tr style=\"text-align: right;\">\n",
              "      <th></th>\n",
              "      <th>SeniorCitizen</th>\n",
              "      <th>tenure</th>\n",
              "      <th>MonthlyCharges</th>\n",
              "      <th>TotalCharges</th>\n",
              "      <th>Churn</th>\n",
              "      <th>gender_Female</th>\n",
              "      <th>gender_Male</th>\n",
              "      <th>Partner_No</th>\n",
              "      <th>Partner_Yes</th>\n",
              "      <th>Dependents_No</th>\n",
              "      <th>...</th>\n",
              "      <th>StreamingMovies_Yes</th>\n",
              "      <th>Contract_Month-to-month</th>\n",
              "      <th>Contract_One year</th>\n",
              "      <th>Contract_Two year</th>\n",
              "      <th>PaperlessBilling_No</th>\n",
              "      <th>PaperlessBilling_Yes</th>\n",
              "      <th>PaymentMethod_Bank transfer (automatic)</th>\n",
              "      <th>PaymentMethod_Credit card (automatic)</th>\n",
              "      <th>PaymentMethod_Electronic check</th>\n",
              "      <th>PaymentMethod_Mailed check</th>\n",
              "    </tr>\n",
              "  </thead>\n",
              "  <tbody>\n",
              "    <tr>\n",
              "      <th>0</th>\n",
              "      <td>0</td>\n",
              "      <td>1</td>\n",
              "      <td>29.85</td>\n",
              "      <td>29.85</td>\n",
              "      <td>0</td>\n",
              "      <td>1</td>\n",
              "      <td>0</td>\n",
              "      <td>0</td>\n",
              "      <td>1</td>\n",
              "      <td>1</td>\n",
              "      <td>...</td>\n",
              "      <td>0</td>\n",
              "      <td>1</td>\n",
              "      <td>0</td>\n",
              "      <td>0</td>\n",
              "      <td>0</td>\n",
              "      <td>1</td>\n",
              "      <td>0</td>\n",
              "      <td>0</td>\n",
              "      <td>1</td>\n",
              "      <td>0</td>\n",
              "    </tr>\n",
              "    <tr>\n",
              "      <th>1</th>\n",
              "      <td>0</td>\n",
              "      <td>34</td>\n",
              "      <td>56.95</td>\n",
              "      <td>1889.50</td>\n",
              "      <td>0</td>\n",
              "      <td>0</td>\n",
              "      <td>1</td>\n",
              "      <td>1</td>\n",
              "      <td>0</td>\n",
              "      <td>1</td>\n",
              "      <td>...</td>\n",
              "      <td>0</td>\n",
              "      <td>0</td>\n",
              "      <td>1</td>\n",
              "      <td>0</td>\n",
              "      <td>1</td>\n",
              "      <td>0</td>\n",
              "      <td>0</td>\n",
              "      <td>0</td>\n",
              "      <td>0</td>\n",
              "      <td>1</td>\n",
              "    </tr>\n",
              "    <tr>\n",
              "      <th>2</th>\n",
              "      <td>0</td>\n",
              "      <td>2</td>\n",
              "      <td>53.85</td>\n",
              "      <td>108.15</td>\n",
              "      <td>1</td>\n",
              "      <td>0</td>\n",
              "      <td>1</td>\n",
              "      <td>1</td>\n",
              "      <td>0</td>\n",
              "      <td>1</td>\n",
              "      <td>...</td>\n",
              "      <td>0</td>\n",
              "      <td>1</td>\n",
              "      <td>0</td>\n",
              "      <td>0</td>\n",
              "      <td>0</td>\n",
              "      <td>1</td>\n",
              "      <td>0</td>\n",
              "      <td>0</td>\n",
              "      <td>0</td>\n",
              "      <td>1</td>\n",
              "    </tr>\n",
              "    <tr>\n",
              "      <th>3</th>\n",
              "      <td>0</td>\n",
              "      <td>45</td>\n",
              "      <td>42.30</td>\n",
              "      <td>1840.75</td>\n",
              "      <td>0</td>\n",
              "      <td>0</td>\n",
              "      <td>1</td>\n",
              "      <td>1</td>\n",
              "      <td>0</td>\n",
              "      <td>1</td>\n",
              "      <td>...</td>\n",
              "      <td>0</td>\n",
              "      <td>0</td>\n",
              "      <td>1</td>\n",
              "      <td>0</td>\n",
              "      <td>1</td>\n",
              "      <td>0</td>\n",
              "      <td>1</td>\n",
              "      <td>0</td>\n",
              "      <td>0</td>\n",
              "      <td>0</td>\n",
              "    </tr>\n",
              "    <tr>\n",
              "      <th>4</th>\n",
              "      <td>0</td>\n",
              "      <td>2</td>\n",
              "      <td>70.70</td>\n",
              "      <td>151.65</td>\n",
              "      <td>1</td>\n",
              "      <td>1</td>\n",
              "      <td>0</td>\n",
              "      <td>1</td>\n",
              "      <td>0</td>\n",
              "      <td>1</td>\n",
              "      <td>...</td>\n",
              "      <td>0</td>\n",
              "      <td>1</td>\n",
              "      <td>0</td>\n",
              "      <td>0</td>\n",
              "      <td>0</td>\n",
              "      <td>1</td>\n",
              "      <td>0</td>\n",
              "      <td>0</td>\n",
              "      <td>1</td>\n",
              "      <td>0</td>\n",
              "    </tr>\n",
              "  </tbody>\n",
              "</table>\n",
              "<p>5 rows × 46 columns</p>\n",
              "</div>\n",
              "    <div class=\"colab-df-buttons\">\n",
              "\n",
              "  <div class=\"colab-df-container\">\n",
              "    <button class=\"colab-df-convert\" onclick=\"convertToInteractive('df-eca1dac0-b6e3-46e9-8a70-7aa8aca529a4')\"\n",
              "            title=\"Convert this dataframe to an interactive table.\"\n",
              "            style=\"display:none;\">\n",
              "\n",
              "  <svg xmlns=\"http://www.w3.org/2000/svg\" height=\"24px\" viewBox=\"0 -960 960 960\">\n",
              "    <path d=\"M120-120v-720h720v720H120Zm60-500h600v-160H180v160Zm220 220h160v-160H400v160Zm0 220h160v-160H400v160ZM180-400h160v-160H180v160Zm440 0h160v-160H620v160ZM180-180h160v-160H180v160Zm440 0h160v-160H620v160Z\"/>\n",
              "  </svg>\n",
              "    </button>\n",
              "\n",
              "  <style>\n",
              "    .colab-df-container {\n",
              "      display:flex;\n",
              "      gap: 12px;\n",
              "    }\n",
              "\n",
              "    .colab-df-convert {\n",
              "      background-color: #E8F0FE;\n",
              "      border: none;\n",
              "      border-radius: 50%;\n",
              "      cursor: pointer;\n",
              "      display: none;\n",
              "      fill: #1967D2;\n",
              "      height: 32px;\n",
              "      padding: 0 0 0 0;\n",
              "      width: 32px;\n",
              "    }\n",
              "\n",
              "    .colab-df-convert:hover {\n",
              "      background-color: #E2EBFA;\n",
              "      box-shadow: 0px 1px 2px rgba(60, 64, 67, 0.3), 0px 1px 3px 1px rgba(60, 64, 67, 0.15);\n",
              "      fill: #174EA6;\n",
              "    }\n",
              "\n",
              "    .colab-df-buttons div {\n",
              "      margin-bottom: 4px;\n",
              "    }\n",
              "\n",
              "    [theme=dark] .colab-df-convert {\n",
              "      background-color: #3B4455;\n",
              "      fill: #D2E3FC;\n",
              "    }\n",
              "\n",
              "    [theme=dark] .colab-df-convert:hover {\n",
              "      background-color: #434B5C;\n",
              "      box-shadow: 0px 1px 3px 1px rgba(0, 0, 0, 0.15);\n",
              "      filter: drop-shadow(0px 1px 2px rgba(0, 0, 0, 0.3));\n",
              "      fill: #FFFFFF;\n",
              "    }\n",
              "  </style>\n",
              "\n",
              "    <script>\n",
              "      const buttonEl =\n",
              "        document.querySelector('#df-eca1dac0-b6e3-46e9-8a70-7aa8aca529a4 button.colab-df-convert');\n",
              "      buttonEl.style.display =\n",
              "        google.colab.kernel.accessAllowed ? 'block' : 'none';\n",
              "\n",
              "      async function convertToInteractive(key) {\n",
              "        const element = document.querySelector('#df-eca1dac0-b6e3-46e9-8a70-7aa8aca529a4');\n",
              "        const dataTable =\n",
              "          await google.colab.kernel.invokeFunction('convertToInteractive',\n",
              "                                                    [key], {});\n",
              "        if (!dataTable) return;\n",
              "\n",
              "        const docLinkHtml = 'Like what you see? Visit the ' +\n",
              "          '<a target=\"_blank\" href=https://colab.research.google.com/notebooks/data_table.ipynb>data table notebook</a>'\n",
              "          + ' to learn more about interactive tables.';\n",
              "        element.innerHTML = '';\n",
              "        dataTable['output_type'] = 'display_data';\n",
              "        await google.colab.output.renderOutput(dataTable, element);\n",
              "        const docLink = document.createElement('div');\n",
              "        docLink.innerHTML = docLinkHtml;\n",
              "        element.appendChild(docLink);\n",
              "      }\n",
              "    </script>\n",
              "  </div>\n",
              "\n",
              "\n",
              "<div id=\"df-ad87a948-165c-4d36-9130-5449efe4bfcd\">\n",
              "  <button class=\"colab-df-quickchart\" onclick=\"quickchart('df-ad87a948-165c-4d36-9130-5449efe4bfcd')\"\n",
              "            title=\"Suggest charts\"\n",
              "            style=\"display:none;\">\n",
              "\n",
              "<svg xmlns=\"http://www.w3.org/2000/svg\" height=\"24px\"viewBox=\"0 0 24 24\"\n",
              "     width=\"24px\">\n",
              "    <g>\n",
              "        <path d=\"M19 3H5c-1.1 0-2 .9-2 2v14c0 1.1.9 2 2 2h14c1.1 0 2-.9 2-2V5c0-1.1-.9-2-2-2zM9 17H7v-7h2v7zm4 0h-2V7h2v10zm4 0h-2v-4h2v4z\"/>\n",
              "    </g>\n",
              "</svg>\n",
              "  </button>\n",
              "\n",
              "<style>\n",
              "  .colab-df-quickchart {\n",
              "      --bg-color: #E8F0FE;\n",
              "      --fill-color: #1967D2;\n",
              "      --hover-bg-color: #E2EBFA;\n",
              "      --hover-fill-color: #174EA6;\n",
              "      --disabled-fill-color: #AAA;\n",
              "      --disabled-bg-color: #DDD;\n",
              "  }\n",
              "\n",
              "  [theme=dark] .colab-df-quickchart {\n",
              "      --bg-color: #3B4455;\n",
              "      --fill-color: #D2E3FC;\n",
              "      --hover-bg-color: #434B5C;\n",
              "      --hover-fill-color: #FFFFFF;\n",
              "      --disabled-bg-color: #3B4455;\n",
              "      --disabled-fill-color: #666;\n",
              "  }\n",
              "\n",
              "  .colab-df-quickchart {\n",
              "    background-color: var(--bg-color);\n",
              "    border: none;\n",
              "    border-radius: 50%;\n",
              "    cursor: pointer;\n",
              "    display: none;\n",
              "    fill: var(--fill-color);\n",
              "    height: 32px;\n",
              "    padding: 0;\n",
              "    width: 32px;\n",
              "  }\n",
              "\n",
              "  .colab-df-quickchart:hover {\n",
              "    background-color: var(--hover-bg-color);\n",
              "    box-shadow: 0 1px 2px rgba(60, 64, 67, 0.3), 0 1px 3px 1px rgba(60, 64, 67, 0.15);\n",
              "    fill: var(--button-hover-fill-color);\n",
              "  }\n",
              "\n",
              "  .colab-df-quickchart-complete:disabled,\n",
              "  .colab-df-quickchart-complete:disabled:hover {\n",
              "    background-color: var(--disabled-bg-color);\n",
              "    fill: var(--disabled-fill-color);\n",
              "    box-shadow: none;\n",
              "  }\n",
              "\n",
              "  .colab-df-spinner {\n",
              "    border: 2px solid var(--fill-color);\n",
              "    border-color: transparent;\n",
              "    border-bottom-color: var(--fill-color);\n",
              "    animation:\n",
              "      spin 1s steps(1) infinite;\n",
              "  }\n",
              "\n",
              "  @keyframes spin {\n",
              "    0% {\n",
              "      border-color: transparent;\n",
              "      border-bottom-color: var(--fill-color);\n",
              "      border-left-color: var(--fill-color);\n",
              "    }\n",
              "    20% {\n",
              "      border-color: transparent;\n",
              "      border-left-color: var(--fill-color);\n",
              "      border-top-color: var(--fill-color);\n",
              "    }\n",
              "    30% {\n",
              "      border-color: transparent;\n",
              "      border-left-color: var(--fill-color);\n",
              "      border-top-color: var(--fill-color);\n",
              "      border-right-color: var(--fill-color);\n",
              "    }\n",
              "    40% {\n",
              "      border-color: transparent;\n",
              "      border-right-color: var(--fill-color);\n",
              "      border-top-color: var(--fill-color);\n",
              "    }\n",
              "    60% {\n",
              "      border-color: transparent;\n",
              "      border-right-color: var(--fill-color);\n",
              "    }\n",
              "    80% {\n",
              "      border-color: transparent;\n",
              "      border-right-color: var(--fill-color);\n",
              "      border-bottom-color: var(--fill-color);\n",
              "    }\n",
              "    90% {\n",
              "      border-color: transparent;\n",
              "      border-bottom-color: var(--fill-color);\n",
              "    }\n",
              "  }\n",
              "</style>\n",
              "\n",
              "  <script>\n",
              "    async function quickchart(key) {\n",
              "      const quickchartButtonEl =\n",
              "        document.querySelector('#' + key + ' button');\n",
              "      quickchartButtonEl.disabled = true;  // To prevent multiple clicks.\n",
              "      quickchartButtonEl.classList.add('colab-df-spinner');\n",
              "      try {\n",
              "        const charts = await google.colab.kernel.invokeFunction(\n",
              "            'suggestCharts', [key], {});\n",
              "      } catch (error) {\n",
              "        console.error('Error during call to suggestCharts:', error);\n",
              "      }\n",
              "      quickchartButtonEl.classList.remove('colab-df-spinner');\n",
              "      quickchartButtonEl.classList.add('colab-df-quickchart-complete');\n",
              "    }\n",
              "    (() => {\n",
              "      let quickchartButtonEl =\n",
              "        document.querySelector('#df-ad87a948-165c-4d36-9130-5449efe4bfcd button');\n",
              "      quickchartButtonEl.style.display =\n",
              "        google.colab.kernel.accessAllowed ? 'block' : 'none';\n",
              "    })();\n",
              "  </script>\n",
              "</div>\n",
              "    </div>\n",
              "  </div>\n"
            ]
          },
          "metadata": {},
          "execution_count": 368
        }
      ],
      "source": [
        "data2.head()"
      ]
    },
    {
      "cell_type": "markdown",
      "metadata": {
        "papermill": {
          "duration": 0.139624,
          "end_time": "2020-11-30T09:40:39.641915",
          "exception": false,
          "start_time": "2020-11-30T09:40:39.502291",
          "status": "completed"
        },
        "tags": [],
        "id": "-7ngxjK5clk4"
      },
      "source": [
        "Checking unique values of every column:"
      ]
    },
    {
      "cell_type": "code",
      "execution_count": 369,
      "metadata": {
        "execution": {
          "iopub.execute_input": "2020-11-30T09:40:39.924397Z",
          "iopub.status.busy": "2020-11-30T09:40:39.921993Z",
          "iopub.status.idle": "2020-11-30T09:40:39.956035Z",
          "shell.execute_reply": "2020-11-30T09:40:39.954692Z"
        },
        "papermill": {
          "duration": 0.171165,
          "end_time": "2020-11-30T09:40:39.956206",
          "exception": false,
          "start_time": "2020-11-30T09:40:39.785041",
          "status": "completed"
        },
        "tags": [],
        "colab": {
          "base_uri": "https://localhost:8080/"
        },
        "id": "TVQE81XFclk4",
        "outputId": "3efbc946-985d-46d7-ee0a-17a3dada1c64"
      },
      "outputs": [
        {
          "output_type": "stream",
          "name": "stdout",
          "text": [
            "gender \n",
            "\n",
            "['Female' 'Male'] \n",
            "\n",
            "SeniorCitizen \n",
            "\n",
            "[0 1] \n",
            "\n",
            "Partner \n",
            "\n",
            "['Yes' 'No'] \n",
            "\n",
            "Dependents \n",
            "\n",
            "['No' 'Yes'] \n",
            "\n",
            "tenure \n",
            "\n",
            "[ 1 34  2 45  8 22 10 28 62 13 16 58 49 25 69 52 71 21 12 30 47 72 17 27\n",
            "  5 46 11 70 63 43 15 60 18 66  9  3 31 50 64 56  7 42 35 48 29 65 38 68\n",
            " 32 55 37 36 41  6  4 33 67 23 57 61 14 20 53 40 59 24 44 19 54 51 26 39] \n",
            "\n",
            "PhoneService \n",
            "\n",
            "['No' 'Yes'] \n",
            "\n",
            "MultipleLines \n",
            "\n",
            "['No phone service' 'No' 'Yes'] \n",
            "\n",
            "InternetService \n",
            "\n",
            "['DSL' 'Fiber optic' 'No'] \n",
            "\n",
            "OnlineSecurity \n",
            "\n",
            "['No' 'Yes' 'No internet service'] \n",
            "\n",
            "OnlineBackup \n",
            "\n",
            "['Yes' 'No' 'No internet service'] \n",
            "\n",
            "DeviceProtection \n",
            "\n",
            "['No' 'Yes' 'No internet service'] \n",
            "\n",
            "TechSupport \n",
            "\n",
            "['No' 'Yes' 'No internet service'] \n",
            "\n",
            "StreamingTV \n",
            "\n",
            "['No' 'Yes' 'No internet service'] \n",
            "\n",
            "StreamingMovies \n",
            "\n",
            "['No' 'Yes' 'No internet service'] \n",
            "\n",
            "Contract \n",
            "\n",
            "['Month-to-month' 'One year' 'Two year'] \n",
            "\n",
            "PaperlessBilling \n",
            "\n",
            "['Yes' 'No'] \n",
            "\n",
            "PaymentMethod \n",
            "\n",
            "['Electronic check' 'Mailed check' 'Bank transfer (automatic)'\n",
            " 'Credit card (automatic)'] \n",
            "\n",
            "MonthlyCharges \n",
            "\n",
            "[29.85 56.95 53.85 ... 63.1  44.2  78.7 ] \n",
            "\n",
            "TotalCharges \n",
            "\n",
            "[  29.85 1889.5   108.15 ...  346.45  306.6  6844.5 ] \n",
            "\n",
            "Churn \n",
            "\n",
            "[0 1] \n",
            "\n"
          ]
        }
      ],
      "source": [
        "data_cols = data.drop('customerID', axis = 1)\n",
        "\n",
        "for col in data_cols.columns:\n",
        "    print(col, \"\\n\")\n",
        "    print(data[col].unique(), \"\\n\")"
      ]
    },
    {
      "cell_type": "code",
      "execution_count": 414,
      "metadata": {
        "execution": {
          "iopub.execute_input": "2020-11-30T09:40:40.238682Z",
          "iopub.status.busy": "2020-11-30T09:40:40.236161Z",
          "iopub.status.idle": "2020-11-30T09:40:40.731149Z",
          "shell.execute_reply": "2020-11-30T09:40:40.730346Z"
        },
        "papermill": {
          "duration": 0.642569,
          "end_time": "2020-11-30T09:40:40.731311",
          "exception": false,
          "start_time": "2020-11-30T09:40:40.088742",
          "status": "completed"
        },
        "tags": [],
        "colab": {
          "base_uri": "https://localhost:8080/",
          "height": 412
        },
        "id": "J8m9czPPclk_",
        "outputId": "05a24435-f3bb-4ec3-8aeb-9f602ee0b1bd"
      },
      "outputs": [
        {
          "output_type": "display_data",
          "data": {
            "text/plain": [
              "<Figure size 500x400 with 1 Axes>"
            ],
            "image/png": "[encoded data removed]"
          },
          "metadata": {}
        }
      ],
      "source": [
        "plt.figure(figsize = (5,4))\n",
        "\n",
        "ax = sns.distplot(data['tenure'], rug=True, rug_kws={\"color\": \"g\"},\n",
        "                  kde_kws={\"color\": \"red\", \"lw\": 3},\n",
        "                  hist_kws={\"histtype\": \"step\", \"linewidth\": 3,\n",
        "                            \"alpha\": 0.4, \"color\": \"g\"});"
      ]
    },
    {
      "cell_type": "markdown",
      "metadata": {
        "papermill": {
          "duration": 0.137901,
          "end_time": "2020-11-30T09:40:41.004779",
          "exception": false,
          "start_time": "2020-11-30T09:40:40.866878",
          "status": "completed"
        },
        "tags": [],
        "id": "keO0gQIbcllA"
      },
      "source": [
        "### There are people staying with this company for about 70 years."
      ]
    },
    {
      "cell_type": "code",
      "execution_count": 413,
      "metadata": {
        "execution": {
          "iopub.execute_input": "2020-11-30T09:40:41.283736Z",
          "iopub.status.busy": "2020-11-30T09:40:41.282894Z",
          "iopub.status.idle": "2020-11-30T09:40:41.699785Z",
          "shell.execute_reply": "2020-11-30T09:40:41.698981Z"
        },
        "papermill": {
          "duration": 0.562411,
          "end_time": "2020-11-30T09:40:41.699952",
          "exception": false,
          "start_time": "2020-11-30T09:40:41.137541",
          "status": "completed"
        },
        "tags": [],
        "colab": {
          "base_uri": "https://localhost:8080/",
          "height": 412
        },
        "id": "7hHf_ez5cllA",
        "outputId": "ac7bc8a8-c560-4a3d-eb93-88db85b70937"
      },
      "outputs": [
        {
          "output_type": "display_data",
          "data": {
            "text/plain": [
              "<Figure size 500x400 with 1 Axes>"
            ],
            "image/png": "[encoded data removed]"
          },
          "metadata": {}
        }
      ],
      "source": [
        "plt.figure(figsize=(5,4))\n",
        "\n",
        "sns.distplot(data['MonthlyCharges']);"
      ]
    },
    {
      "cell_type": "markdown",
      "metadata": {
        "papermill": {
          "duration": 0.146497,
          "end_time": "2020-11-30T09:40:41.996846",
          "exception": false,
          "start_time": "2020-11-30T09:40:41.850349",
          "status": "completed"
        },
        "tags": [],
        "id": "x6MzrSkGcllA"
      },
      "source": [
        "### Most of the customer has low monthly charge."
      ]
    },
    {
      "cell_type": "code",
      "execution_count": 412,
      "metadata": {
        "execution": {
          "iopub.execute_input": "2020-11-30T09:40:42.279262Z",
          "iopub.status.busy": "2020-11-30T09:40:42.278467Z",
          "iopub.status.idle": "2020-11-30T09:40:42.725185Z",
          "shell.execute_reply": "2020-11-30T09:40:42.724440Z"
        },
        "papermill": {
          "duration": 0.591088,
          "end_time": "2020-11-30T09:40:42.725331",
          "exception": false,
          "start_time": "2020-11-30T09:40:42.134243",
          "status": "completed"
        },
        "tags": [],
        "colab": {
          "base_uri": "https://localhost:8080/",
          "height": 493
        },
        "id": "qlTS9AtXcllA",
        "outputId": "525e0a45-6a22-4738-f646-761b910adae1"
      },
      "outputs": [
        {
          "output_type": "display_data",
          "data": {
            "text/plain": [
              "<Figure size 500x500 with 1 Axes>"
            ],
            "image/png": "[encoded data removed]"
          },
          "metadata": {}
        }
      ],
      "source": [
        "data[data['Churn'] == 1].TotalCharges.plot(kind = 'hist', alpha = 0.3, color = '#016a55', label = 'Churn = Yes',figsize = (5, 5))\n",
        "\n",
        "data[data['Churn'] == 0].TotalCharges.plot(kind = 'hist', alpha = 0.3, color = '#d89955', label = 'Churn = No')\n",
        "\n",
        "plt.xlabel('Total Charges')\n",
        "plt.legend();"
      ]
    },
    {
      "cell_type": "markdown",
      "metadata": {
        "papermill": {
          "duration": 0.136465,
          "end_time": "2020-11-30T09:40:42.996872",
          "exception": false,
          "start_time": "2020-11-30T09:40:42.860407",
          "status": "completed"
        },
        "tags": [],
        "id": "_oXd7qcScllA"
      },
      "source": [
        "### Those with lower total charges have left the brand most."
      ]
    },
    {
      "cell_type": "code",
      "execution_count": 411,
      "metadata": {
        "execution": {
          "iopub.execute_input": "2020-11-30T09:40:43.290611Z",
          "iopub.status.busy": "2020-11-30T09:40:43.289308Z",
          "iopub.status.idle": "2020-11-30T09:40:43.744841Z",
          "shell.execute_reply": "2020-11-30T09:40:43.744159Z"
        },
        "papermill": {
          "duration": 0.608102,
          "end_time": "2020-11-30T09:40:43.744988",
          "exception": false,
          "start_time": "2020-11-30T09:40:43.136886",
          "status": "completed"
        },
        "tags": [],
        "colab": {
          "base_uri": "https://localhost:8080/",
          "height": 493
        },
        "id": "4BpYJJPvcllA",
        "outputId": "e3e22084-c6fa-4883-fe75-5bc34cf324a7"
      },
      "outputs": [
        {
          "output_type": "display_data",
          "data": {
            "text/plain": [
              "<Figure size 500x500 with 1 Axes>"
            ],
            "image/png": "[encoded data removed]"
          },
          "metadata": {}
        }
      ],
      "source": [
        "data[data['Churn'] == 1].MonthlyCharges.plot(kind = 'hist', alpha = 0.3, color = '#019955', label = 'Churn = Yes',figsize = (5, 5))\n",
        "\n",
        "data[data['Churn'] == 0].MonthlyCharges.plot(kind = 'hist', alpha = 0.3, color = '#d89955', label = 'Churn = No')\n",
        "\n",
        "plt.xlabel('Monthly Charges')\n",
        "plt.legend();"
      ]
    },
    {
      "cell_type": "code",
      "execution_count": 410,
      "metadata": {
        "execution": {
          "iopub.execute_input": "2020-11-30T09:40:44.030107Z",
          "iopub.status.busy": "2020-11-30T09:40:44.028161Z",
          "iopub.status.idle": "2020-11-30T09:40:44.503581Z",
          "shell.execute_reply": "2020-11-30T09:40:44.502709Z"
        },
        "papermill": {
          "duration": 0.622835,
          "end_time": "2020-11-30T09:40:44.503717",
          "exception": false,
          "start_time": "2020-11-30T09:40:43.880882",
          "status": "completed"
        },
        "tags": [],
        "colab": {
          "base_uri": "https://localhost:8080/",
          "height": 493
        },
        "id": "Bhz-mH8acllA",
        "outputId": "0165c042-1396-48dd-857d-e72951c413c9"
      },
      "outputs": [
        {
          "output_type": "display_data",
          "data": {
            "text/plain": [
              "<Figure size 500x500 with 1 Axes>"
            ],
            "image/png": "[encoded data removed]"
          },
          "metadata": {}
        }
      ],
      "source": [
        "data[data['Churn'] == 1].tenure.plot(kind = 'hist', alpha = 0.3, color = '#019955', label = 'Yes',figsize = (5, 5))\n",
        "\n",
        "data[data['Churn'] == 0].tenure.plot(kind = 'hist', alpha = 0.3, color = '#d89955', label = 'No')\n",
        "\n",
        "plt.xlabel('Tenure')\n",
        "plt.legend();"
      ]
    },
    {
      "cell_type": "markdown",
      "metadata": {
        "papermill": {
          "duration": 0.154232,
          "end_time": "2020-11-30T09:40:52.824616",
          "exception": false,
          "start_time": "2020-11-30T09:40:52.670384",
          "status": "completed"
        },
        "tags": [],
        "id": "rKJu_-_5cllB"
      },
      "source": [
        "### Splitting the Data"
      ]
    },
    {
      "cell_type": "code",
      "execution_count": 375,
      "metadata": {
        "execution": {
          "iopub.execute_input": "2020-11-30T09:40:53.142299Z",
          "iopub.status.busy": "2020-11-30T09:40:53.140894Z",
          "iopub.status.idle": "2020-11-30T09:40:53.148016Z",
          "shell.execute_reply": "2020-11-30T09:40:53.146992Z"
        },
        "papermill": {
          "duration": 0.168574,
          "end_time": "2020-11-30T09:40:53.148162",
          "exception": false,
          "start_time": "2020-11-30T09:40:52.979588",
          "status": "completed"
        },
        "tags": [],
        "id": "Mt21pbtScllB"
      },
      "outputs": [],
      "source": [
        "X = data2.drop('Churn', axis=1)\n",
        "\n",
        "y = data2['Churn']"
      ]
    },
    {
      "cell_type": "markdown",
      "metadata": {
        "papermill": {
          "duration": 0.157276,
          "end_time": "2020-11-30T09:40:53.461756",
          "exception": false,
          "start_time": "2020-11-30T09:40:53.304480",
          "status": "completed"
        },
        "tags": [],
        "id": "mbXt_WymcllB"
      },
      "source": [
        "# Model Building"
      ]
    },
    {
      "cell_type": "code",
      "execution_count": 376,
      "metadata": {
        "execution": {
          "iopub.execute_input": "2020-11-30T09:40:53.776713Z",
          "iopub.status.busy": "2020-11-30T09:40:53.775716Z",
          "iopub.status.idle": "2020-11-30T09:40:55.344971Z",
          "shell.execute_reply": "2020-11-30T09:40:55.345649Z"
        },
        "papermill": {
          "duration": 1.730874,
          "end_time": "2020-11-30T09:40:55.345816",
          "exception": false,
          "start_time": "2020-11-30T09:40:53.614942",
          "status": "completed"
        },
        "tags": [],
        "id": "RIaxBvs1cllB"
      },
      "outputs": [],
      "source": [
        "from sklearn.model_selection import train_test_split\n",
        "from sklearn.linear_model import LogisticRegression\n",
        "from sklearn import metrics\n",
        "from sklearn.ensemble import RandomForestClassifier\n",
        "from sklearn.tree import DecisionTreeClassifier\n",
        "from sklearn.svm import SVC\n",
        "from sklearn.model_selection import cross_val_score\n",
        "from sklearn.model_selection import GridSearchCV\n",
        "from sklearn.preprocessing import StandardScaler"
      ]
    },
    {
      "cell_type": "code",
      "execution_count": 377,
      "metadata": {
        "execution": {
          "iopub.execute_input": "2020-11-30T09:40:55.665638Z",
          "iopub.status.busy": "2020-11-30T09:40:55.664848Z",
          "iopub.status.idle": "2020-11-30T09:40:55.670907Z",
          "shell.execute_reply": "2020-11-30T09:40:55.670134Z"
        },
        "papermill": {
          "duration": 0.167374,
          "end_time": "2020-11-30T09:40:55.671031",
          "exception": false,
          "start_time": "2020-11-30T09:40:55.503657",
          "status": "completed"
        },
        "tags": [],
        "id": "aHSYgIlecllB"
      },
      "outputs": [],
      "source": [
        "X_train, X_test, y_train, y_test = train_test_split(X, y, test_size = .33, random_state = 33)"
      ]
    },
    {
      "cell_type": "code",
      "execution_count": 378,
      "metadata": {
        "execution": {
          "iopub.execute_input": "2020-11-30T09:40:55.992600Z",
          "iopub.status.busy": "2020-11-30T09:40:55.991548Z",
          "iopub.status.idle": "2020-11-30T09:40:55.995153Z",
          "shell.execute_reply": "2020-11-30T09:40:55.994405Z"
        },
        "papermill": {
          "duration": 0.168192,
          "end_time": "2020-11-30T09:40:55.995301",
          "exception": false,
          "start_time": "2020-11-30T09:40:55.827109",
          "status": "completed"
        },
        "tags": [],
        "id": "sKBgwvn3cllB"
      },
      "outputs": [],
      "source": [
        "models = []\n",
        "models.append(('Random Forest Clas.', RandomForestClassifier()))\n",
        "models.append(('Decision Tree Clas.', DecisionTreeClassifier()))\n",
        "models.append(('Logistic Reg.', LogisticRegression()))\n",
        "models.append(('SVC', SVC()))"
      ]
    },
    {
      "cell_type": "markdown",
      "metadata": {
        "papermill": {
          "duration": 0.154079,
          "end_time": "2020-11-30T09:40:56.304578",
          "exception": false,
          "start_time": "2020-11-30T09:40:56.150499",
          "status": "completed"
        },
        "tags": [],
        "id": "raXM6rxwcllC"
      },
      "source": [
        "Creating a for loop to see cross validation scores for every model above:"
      ]
    },
    {
      "cell_type": "code",
      "execution_count": 379,
      "metadata": {
        "execution": {
          "iopub.execute_input": "2020-11-30T09:40:56.624644Z",
          "iopub.status.busy": "2020-11-30T09:40:56.623855Z",
          "iopub.status.idle": "2020-11-30T09:42:02.845298Z",
          "shell.execute_reply": "2020-11-30T09:42:02.846014Z"
        },
        "papermill": {
          "duration": 66.388484,
          "end_time": "2020-11-30T09:42:02.846224",
          "exception": false,
          "start_time": "2020-11-30T09:40:56.457740",
          "status": "completed"
        },
        "tags": [],
        "colab": {
          "base_uri": "https://localhost:8080/"
        },
        "id": "VyOybEn6cllC",
        "outputId": "8496990d-65e6-4f6c-840f-b02cf62ccb6e"
      },
      "outputs": [
        {
          "output_type": "stream",
          "name": "stdout",
          "text": [
            "Mean of the Random Forest Clas. model scores : 0.7861196961746844\n",
            "Mean of the Decision Tree Clas. model scores : 0.7246862618425856\n",
            "Mean of the Logistic Reg. model scores : 0.80446406455833\n",
            "Mean of the SVC model scores : 0.7342150252598014\n"
          ]
        }
      ],
      "source": [
        "model_names = []\n",
        "scores = []\n",
        "\n",
        "for name, model in models:\n",
        "    score = cross_val_score(model, X, y, cv = 5, scoring='accuracy')\n",
        "    scores.append(score)\n",
        "    model_names.append(name)\n",
        "    print(f\"Mean of the {name} model scores : {score.mean()}\")"
      ]
    },
    {
      "cell_type": "markdown",
      "metadata": {
        "papermill": {
          "duration": 0.160574,
          "end_time": "2020-11-30T09:42:07.977282",
          "exception": false,
          "start_time": "2020-11-30T09:42:07.816708",
          "status": "completed"
        },
        "tags": [],
        "id": "LmtQjvtpcllC"
      },
      "source": [
        "# Logistic Regression"
      ]
    },
    {
      "cell_type": "code",
      "execution_count": 380,
      "metadata": {
        "execution": {
          "iopub.execute_input": "2020-11-30T09:42:08.314231Z",
          "iopub.status.busy": "2020-11-30T09:42:08.313401Z",
          "iopub.status.idle": "2020-11-30T09:42:08.463408Z",
          "shell.execute_reply": "2020-11-30T09:42:08.462616Z"
        },
        "papermill": {
          "duration": 0.319415,
          "end_time": "2020-11-30T09:42:08.463557",
          "exception": false,
          "start_time": "2020-11-30T09:42:08.144142",
          "status": "completed"
        },
        "tags": [],
        "id": "RrnSq1IrcllC"
      },
      "outputs": [],
      "source": [
        "log = LogisticRegression()\n",
        "log.fit(X_train, y_train)\n",
        "\n",
        "log_y_pred = log.predict(X_test)\n",
        "log_y_pred_train = log.predict(X_train)"
      ]
    },
    {
      "cell_type": "code",
      "execution_count": 381,
      "metadata": {
        "execution": {
          "iopub.execute_input": "2020-11-30T09:42:08.819989Z",
          "iopub.status.busy": "2020-11-30T09:42:08.819027Z",
          "iopub.status.idle": "2020-11-30T09:42:08.824392Z",
          "shell.execute_reply": "2020-11-30T09:42:08.823745Z"
        },
        "papermill": {
          "duration": 0.173196,
          "end_time": "2020-11-30T09:42:08.824515",
          "exception": false,
          "start_time": "2020-11-30T09:42:08.651319",
          "status": "completed"
        },
        "tags": [],
        "id": "APs20o3ccllC"
      },
      "outputs": [],
      "source": [
        "log_test_as = metrics.accuracy_score(log_y_pred, y_test)\n",
        "log_train_as = metrics.accuracy_score(log_y_pred_train, y_train)"
      ]
    },
    {
      "cell_type": "code",
      "execution_count": 382,
      "metadata": {
        "execution": {
          "iopub.execute_input": "2020-11-30T09:42:09.153322Z",
          "iopub.status.busy": "2020-11-30T09:42:09.152351Z",
          "iopub.status.idle": "2020-11-30T09:42:09.156309Z",
          "shell.execute_reply": "2020-11-30T09:42:09.157736Z"
        },
        "papermill": {
          "duration": 0.172932,
          "end_time": "2020-11-30T09:42:09.157926",
          "exception": false,
          "start_time": "2020-11-30T09:42:08.984994",
          "status": "completed"
        },
        "tags": [],
        "colab": {
          "base_uri": "https://localhost:8080/"
        },
        "id": "We3-6N73cllD",
        "outputId": "8a0f6359-7489-4a7b-cbd0-f81a665ca3bf"
      },
      "outputs": [
        {
          "output_type": "stream",
          "name": "stdout",
          "text": [
            "Accuracy score for test data : 0.7983627746660922\n",
            "Accuracy score for train data : 0.8093822967522819\n"
          ]
        }
      ],
      "source": [
        "print(f\"Accuracy score for test data : {log_test_as}\")\n",
        "print(f\"Accuracy score for train data : {log_train_as}\")"
      ]
    },
    {
      "cell_type": "code",
      "execution_count": 383,
      "metadata": {
        "execution": {
          "iopub.execute_input": "2020-11-30T09:42:09.496273Z",
          "iopub.status.busy": "2020-11-30T09:42:09.495067Z",
          "iopub.status.idle": "2020-11-30T09:42:09.508057Z",
          "shell.execute_reply": "2020-11-30T09:42:09.507221Z"
        },
        "papermill": {
          "duration": 0.17999,
          "end_time": "2020-11-30T09:42:09.508207",
          "exception": false,
          "start_time": "2020-11-30T09:42:09.328217",
          "status": "completed"
        },
        "tags": [],
        "colab": {
          "base_uri": "https://localhost:8080/"
        },
        "id": "06vo_xllcllD",
        "outputId": "44c7298c-af93-49a6-b481-bd4f913bfb06"
      },
      "outputs": [
        {
          "output_type": "stream",
          "name": "stdout",
          "text": [
            "              precision    recall  f1-score   support\n",
            "\n",
            "           0       0.90      0.84      0.87      1826\n",
            "           1       0.52      0.64      0.57       495\n",
            "\n",
            "    accuracy                           0.80      2321\n",
            "   macro avg       0.71      0.74      0.72      2321\n",
            "weighted avg       0.82      0.80      0.81      2321\n",
            "\n"
          ]
        }
      ],
      "source": [
        "print(metrics.classification_report(log_y_pred, y_test))"
      ]
    },
    {
      "cell_type": "code",
      "execution_count": 384,
      "metadata": {
        "execution": {
          "iopub.execute_input": "2020-11-30T09:42:09.839080Z",
          "iopub.status.busy": "2020-11-30T09:42:09.838301Z",
          "iopub.status.idle": "2020-11-30T09:42:09.850483Z",
          "shell.execute_reply": "2020-11-30T09:42:09.849830Z"
        },
        "papermill": {
          "duration": 0.179532,
          "end_time": "2020-11-30T09:42:09.850620",
          "exception": false,
          "start_time": "2020-11-30T09:42:09.671088",
          "status": "completed"
        },
        "tags": [],
        "colab": {
          "base_uri": "https://localhost:8080/"
        },
        "id": "cUP4_6RUcllD",
        "outputId": "ab57a832-0e8c-4e76-bdd1-b2d481a18278"
      },
      "outputs": [
        {
          "output_type": "execute_result",
          "data": {
            "text/plain": [
              "array([[1538,  288],\n",
              "       [ 180,  315]])"
            ]
          },
          "metadata": {},
          "execution_count": 384
        }
      ],
      "source": [
        "metrics.confusion_matrix(log_y_pred, y_test)"
      ]
    },
    {
      "cell_type": "code",
      "execution_count": 385,
      "metadata": {
        "execution": {
          "iopub.execute_input": "2020-11-30T09:42:10.186765Z",
          "iopub.status.busy": "2020-11-30T09:42:10.185984Z",
          "iopub.status.idle": "2020-11-30T09:42:10.200155Z",
          "shell.execute_reply": "2020-11-30T09:42:10.199408Z"
        },
        "papermill": {
          "duration": 0.183574,
          "end_time": "2020-11-30T09:42:10.200296",
          "exception": false,
          "start_time": "2020-11-30T09:42:10.016722",
          "status": "completed"
        },
        "tags": [],
        "colab": {
          "base_uri": "https://localhost:8080/"
        },
        "id": "-4drRdBncllD",
        "outputId": "91f8872b-60d1-481f-a241-0e193b4235e3"
      },
      "outputs": [
        {
          "output_type": "execute_result",
          "data": {
            "text/plain": [
              "array([[3094,  547],\n",
              "       [ 351,  719]])"
            ]
          },
          "metadata": {},
          "execution_count": 385
        }
      ],
      "source": [
        "metrics.confusion_matrix(log_y_pred_train, y_train)"
      ]
    },
    {
      "cell_type": "code",
      "execution_count": 408,
      "metadata": {
        "execution": {
          "iopub.execute_input": "2020-11-30T09:42:10.918110Z",
          "iopub.status.busy": "2020-11-30T09:42:10.911232Z",
          "iopub.status.idle": "2020-11-30T09:42:11.269972Z",
          "shell.execute_reply": "2020-11-30T09:42:11.269221Z"
        },
        "papermill": {
          "duration": 0.54374,
          "end_time": "2020-11-30T09:42:11.270095",
          "exception": false,
          "start_time": "2020-11-30T09:42:10.726355",
          "status": "completed"
        },
        "tags": [],
        "colab": {
          "base_uri": "https://localhost:8080/",
          "height": 499
        },
        "id": "w9tAoaQ9cllD",
        "outputId": "d680c768-b70b-4d05-f4ac-2cdd58136c9a"
      },
      "outputs": [
        {
          "output_type": "display_data",
          "data": {
            "text/plain": [
              "<Figure size 640x480 with 1 Axes>"
            ],
            "image/png": "[encoded data removed]"
          },
          "metadata": {}
        }
      ],
      "source": [
        "plt.plot([0, 1], [0, 1], 'k--')\n",
        "plt.plot(fpr, tpr, label = 'Logistic Regression')\n",
        "plt.xlabel('fpr')\n",
        "plt.ylabel('tpr')\n",
        "plt.title('ROC Curve')\n",
        "plt.legend();"
      ]
    },
    {
      "cell_type": "code",
      "execution_count": 388,
      "metadata": {
        "execution": {
          "iopub.execute_input": "2020-11-30T09:42:11.605801Z",
          "iopub.status.busy": "2020-11-30T09:42:11.604709Z",
          "iopub.status.idle": "2020-11-30T09:42:11.613776Z",
          "shell.execute_reply": "2020-11-30T09:42:11.612995Z"
        },
        "papermill": {
          "duration": 0.177517,
          "end_time": "2020-11-30T09:42:11.613918",
          "exception": false,
          "start_time": "2020-11-30T09:42:11.436401",
          "status": "completed"
        },
        "tags": [],
        "colab": {
          "base_uri": "https://localhost:8080/"
        },
        "id": "TAAaza0XcllD",
        "outputId": "7bca25f1-87cf-4604-a7d6-8797bea0f4d5"
      },
      "outputs": [
        {
          "output_type": "execute_result",
          "data": {
            "text/plain": [
              "0.8388837728316122"
            ]
          },
          "metadata": {},
          "execution_count": 388
        }
      ],
      "source": [
        "metrics.roc_auc_score(y_test, y_proba_log)"
      ]
    },
    {
      "cell_type": "code",
      "execution_count": 389,
      "metadata": {
        "execution": {
          "iopub.execute_input": "2020-11-30T09:42:11.980165Z",
          "iopub.status.busy": "2020-11-30T09:42:11.979098Z",
          "iopub.status.idle": "2020-11-30T09:42:11.995325Z",
          "shell.execute_reply": "2020-11-30T09:42:11.996141Z"
        },
        "papermill": {
          "duration": 0.214649,
          "end_time": "2020-11-30T09:42:11.996382",
          "exception": false,
          "start_time": "2020-11-30T09:42:11.781733",
          "status": "completed"
        },
        "tags": [],
        "colab": {
          "base_uri": "https://localhost:8080/"
        },
        "id": "5klFyeMQcllD",
        "outputId": "48339978-f03f-4db7-ce47-83757b555f1f"
      },
      "outputs": [
        {
          "output_type": "execute_result",
          "data": {
            "text/plain": [
              "0.8498265453286467"
            ]
          },
          "metadata": {},
          "execution_count": 389
        }
      ],
      "source": [
        "y_proba_log_train = log.predict_proba(X_train)[:, 1]\n",
        "metrics.roc_auc_score(y_train, y_proba_log_train)"
      ]
    },
    {
      "cell_type": "markdown",
      "metadata": {
        "papermill": {
          "duration": 0.18191,
          "end_time": "2020-11-30T09:42:12.404978",
          "exception": false,
          "start_time": "2020-11-30T09:42:12.223068",
          "status": "completed"
        },
        "tags": [],
        "id": "PJeUGmkTcllD"
      },
      "source": [
        "# SVC"
      ]
    },
    {
      "cell_type": "code",
      "execution_count": 390,
      "metadata": {
        "execution": {
          "iopub.execute_input": "2020-11-30T09:42:14.517513Z",
          "iopub.status.busy": "2020-11-30T09:42:14.516754Z",
          "iopub.status.idle": "2020-11-30T09:42:16.070129Z",
          "shell.execute_reply": "2020-11-30T09:42:16.069502Z"
        },
        "papermill": {
          "duration": 1.727637,
          "end_time": "2020-11-30T09:42:16.070283",
          "exception": false,
          "start_time": "2020-11-30T09:42:14.342646",
          "status": "completed"
        },
        "tags": [],
        "id": "tQMvDcdwcllD"
      },
      "outputs": [],
      "source": [
        "y_pred_svc = svc.predict(X_test)\n",
        "y_pred_train = svc.predict(X_train)\n",
        "\n",
        "svc_train_as = metrics.accuracy_score(y_train, y_pred_train)\n",
        "svc_as = metrics.accuracy_score(y_test, y_pred_svc)"
      ]
    },
    {
      "cell_type": "code",
      "execution_count": 391,
      "metadata": {
        "execution": {
          "iopub.execute_input": "2020-11-30T09:42:16.411806Z",
          "iopub.status.busy": "2020-11-30T09:42:16.410782Z",
          "iopub.status.idle": "2020-11-30T09:42:16.416246Z",
          "shell.execute_reply": "2020-11-30T09:42:16.415568Z"
        },
        "papermill": {
          "duration": 0.176879,
          "end_time": "2020-11-30T09:42:16.416401",
          "exception": false,
          "start_time": "2020-11-30T09:42:16.239522",
          "status": "completed"
        },
        "tags": [],
        "colab": {
          "base_uri": "https://localhost:8080/"
        },
        "id": "HEy8owDAcllD",
        "outputId": "313fa12a-cf29-4699-b834-d16c94f8ba1d"
      },
      "outputs": [
        {
          "output_type": "stream",
          "name": "stdout",
          "text": [
            "Accuracy score for test data : 0.7401981904351572\n",
            "Accuracy score for train data : 0.7312672468690299\n"
          ]
        }
      ],
      "source": [
        "print(f\"Accuracy score for test data : {svc_as}\")\n",
        "print(f\"Accuracy score for train data : {svc_train_as}\")"
      ]
    },
    {
      "cell_type": "code",
      "execution_count": 392,
      "metadata": {
        "execution": {
          "iopub.execute_input": "2020-11-30T09:42:16.755987Z",
          "iopub.status.busy": "2020-11-30T09:42:16.754844Z",
          "iopub.status.idle": "2020-11-30T09:42:16.767737Z",
          "shell.execute_reply": "2020-11-30T09:42:16.766900Z"
        },
        "papermill": {
          "duration": 0.185699,
          "end_time": "2020-11-30T09:42:16.767873",
          "exception": false,
          "start_time": "2020-11-30T09:42:16.582174",
          "status": "completed"
        },
        "tags": [],
        "colab": {
          "base_uri": "https://localhost:8080/"
        },
        "id": "FeKVT9frcllD",
        "outputId": "ee7939eb-0044-41ea-9773-c0941ccd4563"
      },
      "outputs": [
        {
          "output_type": "stream",
          "name": "stdout",
          "text": [
            "              precision    recall  f1-score   support\n",
            "\n",
            "           0       0.74      1.00      0.85      1718\n",
            "           1       0.00      0.00      0.00       603\n",
            "\n",
            "    accuracy                           0.74      2321\n",
            "   macro avg       0.37      0.50      0.43      2321\n",
            "weighted avg       0.55      0.74      0.63      2321\n",
            "\n"
          ]
        }
      ],
      "source": [
        "print(metrics.classification_report(y_test, y_pred_svc))"
      ]
    },
    {
      "cell_type": "markdown",
      "metadata": {
        "papermill": {
          "duration": 0.170267,
          "end_time": "2020-11-30T09:42:17.106501",
          "exception": false,
          "start_time": "2020-11-30T09:42:16.936234",
          "status": "completed"
        },
        "tags": [],
        "id": "uCV688t9cllD"
      },
      "source": [
        "Let's try after scaling the data."
      ]
    },
    {
      "cell_type": "code",
      "execution_count": 393,
      "metadata": {
        "execution": {
          "iopub.execute_input": "2020-11-30T09:42:17.453482Z",
          "iopub.status.busy": "2020-11-30T09:42:17.452657Z",
          "iopub.status.idle": "2020-11-30T09:42:17.467462Z",
          "shell.execute_reply": "2020-11-30T09:42:17.466660Z"
        },
        "papermill": {
          "duration": 0.192864,
          "end_time": "2020-11-30T09:42:17.467590",
          "exception": false,
          "start_time": "2020-11-30T09:42:17.274726",
          "status": "completed"
        },
        "tags": [],
        "id": "MBCP7liwcllD"
      },
      "outputs": [],
      "source": [
        "sc = StandardScaler()\n",
        "\n",
        "X_train_sc = sc.fit_transform(X_train)\n",
        "X_test_sc = sc.transform(X_test)"
      ]
    },
    {
      "cell_type": "code",
      "execution_count": 394,
      "metadata": {
        "execution": {
          "iopub.execute_input": "2020-11-30T09:42:17.811459Z",
          "iopub.status.busy": "2020-11-30T09:42:17.810647Z",
          "iopub.status.idle": "2020-11-30T09:42:20.554307Z",
          "shell.execute_reply": "2020-11-30T09:42:20.553442Z"
        },
        "papermill": {
          "duration": 2.919673,
          "end_time": "2020-11-30T09:42:20.554446",
          "exception": false,
          "start_time": "2020-11-30T09:42:17.634773",
          "status": "completed"
        },
        "tags": [],
        "id": "MIXX-HEscllD"
      },
      "outputs": [],
      "source": [
        "svc_sc = SVC()\n",
        "svc_sc.fit(X_train_sc, y_train)\n",
        "\n",
        "y_pred_sc = svc_sc.predict(X_test_sc)\n",
        "y_pred_sc_train = svc_sc.predict(X_train_sc)\n",
        "\n",
        "svc_sc_train_as = metrics.accuracy_score(y_train, y_pred_sc_train)\n",
        "svc_sc_as = metrics.accuracy_score(y_test, y_pred_sc)"
      ]
    },
    {
      "cell_type": "code",
      "execution_count": 395,
      "metadata": {
        "execution": {
          "iopub.execute_input": "2020-11-30T09:42:20.895967Z",
          "iopub.status.busy": "2020-11-30T09:42:20.895171Z",
          "iopub.status.idle": "2020-11-30T09:42:20.898166Z",
          "shell.execute_reply": "2020-11-30T09:42:20.898771Z"
        },
        "papermill": {
          "duration": 0.175778,
          "end_time": "2020-11-30T09:42:20.898939",
          "exception": false,
          "start_time": "2020-11-30T09:42:20.723161",
          "status": "completed"
        },
        "tags": [],
        "colab": {
          "base_uri": "https://localhost:8080/"
        },
        "id": "_SK0oEXBcllE",
        "outputId": "ea94963c-e880-4485-d626-f0dd1f4e39f5"
      },
      "outputs": [
        {
          "output_type": "stream",
          "name": "stdout",
          "text": [
            "Accuracy score for test data : 0.7914691943127962\n",
            "Accuracy score for train data : 0.826151560178306\n"
          ]
        }
      ],
      "source": [
        "print(f\"Accuracy score for test data : {svc_sc_as}\")\n",
        "print(f\"Accuracy score for train data : {svc_sc_train_as}\")"
      ]
    },
    {
      "cell_type": "code",
      "execution_count": 396,
      "metadata": {
        "execution": {
          "iopub.execute_input": "2020-11-30T09:42:21.250633Z",
          "iopub.status.busy": "2020-11-30T09:42:21.249766Z",
          "iopub.status.idle": "2020-11-30T09:42:21.253385Z",
          "shell.execute_reply": "2020-11-30T09:42:21.252654Z"
        },
        "papermill": {
          "duration": 0.182223,
          "end_time": "2020-11-30T09:42:21.253538",
          "exception": false,
          "start_time": "2020-11-30T09:42:21.071315",
          "status": "completed"
        },
        "tags": [],
        "id": "ypx6rRQlcllE"
      },
      "outputs": [],
      "source": [
        "params = {'kernel' : ['rbf'], 'C' : [0.1, 1, 5, 10], 'gamma' : [0.01, 0.1, 0.9, 1]}\n",
        "\n",
        "grid = GridSearchCV(SVC(), params, cv = 5, return_train_score= False)"
      ]
    },
    {
      "cell_type": "markdown",
      "metadata": {
        "papermill": {
          "duration": 0.168477,
          "end_time": "2020-11-30T09:42:22.634471",
          "exception": false,
          "start_time": "2020-11-30T09:42:22.465994",
          "status": "completed"
        },
        "tags": [],
        "id": "QaD9Ti4ZcllF"
      },
      "source": [
        "Model tunning with the best params."
      ]
    },
    {
      "cell_type": "code",
      "execution_count": 397,
      "metadata": {
        "execution": {
          "iopub.execute_input": "2020-11-30T09:42:22.982643Z",
          "iopub.status.busy": "2020-11-30T09:42:22.981852Z",
          "iopub.status.idle": "2020-11-30T09:42:25.570020Z",
          "shell.execute_reply": "2020-11-30T09:42:25.569366Z"
        },
        "papermill": {
          "duration": 2.765081,
          "end_time": "2020-11-30T09:42:25.570144",
          "exception": false,
          "start_time": "2020-11-30T09:42:22.805063",
          "status": "completed"
        },
        "tags": [],
        "colab": {
          "base_uri": "https://localhost:8080/"
        },
        "id": "RFHCP4DMcllF",
        "outputId": "8af3da33-bd24-4a08-d542-6ef7cc470908"
      },
      "outputs": [
        {
          "output_type": "stream",
          "name": "stdout",
          "text": [
            "Accuracy score for test data : 0.7949159844894442\n",
            "Accuracy score for train data : 0.8170239864147739\n"
          ]
        }
      ],
      "source": [
        "# svc_new = SVC(**grid.best_params_)\n",
        "svc_new = SVC(C = 1, gamma = 0.01, kernel = 'rbf')\n",
        "svc_new.fit(X_train_sc, y_train)\n",
        "\n",
        "y_pred_new = svc_new.predict(X_test_sc)\n",
        "y_pred_new_train = svc_new.predict(X_train_sc)\n",
        "\n",
        "svc_new_train_as = metrics.accuracy_score(y_train, y_pred_new_train)\n",
        "svc_new_as = metrics.accuracy_score(y_test, y_pred_new)\n",
        "\n",
        "print(f\"Accuracy score for test data : {svc_new_as}\")\n",
        "print(f\"Accuracy score for train data : {svc_new_train_as}\")"
      ]
    },
    {
      "cell_type": "markdown",
      "metadata": {
        "papermill": {
          "duration": 0.17024,
          "end_time": "2020-11-30T09:42:27.555989",
          "exception": false,
          "start_time": "2020-11-30T09:42:27.385749",
          "status": "completed"
        },
        "tags": [],
        "id": "ne7PPHk0cllG"
      },
      "source": [
        "# Decision tree\n"
      ]
    },
    {
      "cell_type": "code",
      "execution_count": 398,
      "metadata": {
        "execution": {
          "iopub.execute_input": "2020-11-30T09:42:38.041228Z",
          "iopub.status.busy": "2020-11-30T09:42:38.040048Z",
          "iopub.status.idle": "2020-11-30T09:42:38.089893Z",
          "shell.execute_reply": "2020-11-30T09:42:38.089091Z"
        },
        "papermill": {
          "duration": 0.236898,
          "end_time": "2020-11-30T09:42:38.090020",
          "exception": false,
          "start_time": "2020-11-30T09:42:37.853122",
          "status": "completed"
        },
        "tags": [],
        "id": "s6YWstR6cllG"
      },
      "outputs": [],
      "source": [
        "decision_tree = DecisionTreeClassifier()\n",
        "decision_tree.fit(X_train, y_train)\n",
        "\n",
        "y_pred_dt = decision_tree.predict(X_test)\n",
        "y_pred_train_dt = decision_tree.predict(X_train)"
      ]
    },
    {
      "cell_type": "code",
      "execution_count": 399,
      "metadata": {
        "execution": {
          "iopub.execute_input": "2020-11-30T09:42:38.455926Z",
          "iopub.status.busy": "2020-11-30T09:42:38.455053Z",
          "iopub.status.idle": "2020-11-30T09:42:38.460889Z",
          "shell.execute_reply": "2020-11-30T09:42:38.461423Z"
        },
        "papermill": {
          "duration": 0.19118,
          "end_time": "2020-11-30T09:42:38.461581",
          "exception": false,
          "start_time": "2020-11-30T09:42:38.270401",
          "status": "completed"
        },
        "tags": [],
        "colab": {
          "base_uri": "https://localhost:8080/"
        },
        "id": "b3Ao_B3DcllG",
        "outputId": "9a03fdaf-02bc-4d8a-fe2d-a0272de8841c"
      },
      "outputs": [
        {
          "output_type": "stream",
          "name": "stdout",
          "text": [
            "Accuracy score for test data : 0.7233950883239982\n",
            "Accuracy score for train data : 0.9983018467416684\n"
          ]
        }
      ],
      "source": [
        "dt_as = metrics.accuracy_score(y_test, y_pred_dt)\n",
        "dt_as_train = metrics.accuracy_score(y_train, y_pred_train_dt)\n",
        "\n",
        "print(f\"Accuracy score for test data : {dt_as}\")\n",
        "print(f\"Accuracy score for train data : {dt_as_train}\")"
      ]
    },
    {
      "cell_type": "markdown",
      "metadata": {
        "papermill": {
          "duration": 0.177459,
          "end_time": "2020-11-30T09:42:38.823706",
          "exception": false,
          "start_time": "2020-11-30T09:42:38.646247",
          "status": "completed"
        },
        "tags": [],
        "id": "nqgEIRhZcllH"
      },
      "source": [
        "# Random Forest Classifier"
      ]
    },
    {
      "cell_type": "code",
      "execution_count": 400,
      "metadata": {
        "execution": {
          "iopub.execute_input": "2020-11-30T09:42:39.191402Z",
          "iopub.status.busy": "2020-11-30T09:42:39.190271Z",
          "iopub.status.idle": "2020-11-30T09:42:40.097488Z",
          "shell.execute_reply": "2020-11-30T09:42:40.096765Z"
        },
        "papermill": {
          "duration": 1.094919,
          "end_time": "2020-11-30T09:42:40.097614",
          "exception": false,
          "start_time": "2020-11-30T09:42:39.002695",
          "status": "completed"
        },
        "tags": [],
        "id": "K8RS4Rq3cllH"
      },
      "outputs": [],
      "source": [
        "random_forest = RandomForestClassifier()\n",
        "random_forest.fit(X_train, y_train)\n",
        "\n",
        "y_pred_rf = random_forest.predict(X_test)\n",
        "y_pred_train_rf = random_forest.predict(X_train)"
      ]
    },
    {
      "cell_type": "code",
      "execution_count": 401,
      "metadata": {
        "execution": {
          "iopub.execute_input": "2020-11-30T09:42:40.462021Z",
          "iopub.status.busy": "2020-11-30T09:42:40.461262Z",
          "iopub.status.idle": "2020-11-30T09:42:40.467701Z",
          "shell.execute_reply": "2020-11-30T09:42:40.466945Z"
        },
        "papermill": {
          "duration": 0.191402,
          "end_time": "2020-11-30T09:42:40.467824",
          "exception": false,
          "start_time": "2020-11-30T09:42:40.276422",
          "status": "completed"
        },
        "tags": [],
        "colab": {
          "base_uri": "https://localhost:8080/"
        },
        "id": "fG2yL9aEcllH",
        "outputId": "d01dfcc6-a4de-4e14-99e9-123b1a9f7516"
      },
      "outputs": [
        {
          "output_type": "stream",
          "name": "stdout",
          "text": [
            "Accuracy score for test data : 0.7884532529082292\n",
            "Accuracy score for train data : 0.9983018467416684\n"
          ]
        }
      ],
      "source": [
        "rf_as = metrics.accuracy_score(y_test, y_pred_rf)\n",
        "rf_as_train = metrics.accuracy_score(y_train, y_pred_train_rf)\n",
        "\n",
        "print(f\"Accuracy score for test data : {rf_as}\")\n",
        "print(f\"Accuracy score for train data : {rf_as_train}\")"
      ]
    },
    {
      "cell_type": "code",
      "execution_count": 429,
      "metadata": {
        "execution": {
          "iopub.execute_input": "2020-11-30T09:42:42.933257Z",
          "iopub.status.busy": "2020-11-30T09:42:42.931976Z",
          "iopub.status.idle": "2020-11-30T09:42:44.314485Z",
          "shell.execute_reply": "2020-11-30T09:42:44.313633Z"
        },
        "papermill": {
          "duration": 1.584223,
          "end_time": "2020-11-30T09:42:44.314618",
          "exception": false,
          "start_time": "2020-11-30T09:42:42.730395",
          "status": "completed"
        },
        "tags": [],
        "colab": {
          "base_uri": "https://localhost:8080/",
          "height": 746
        },
        "id": "O1lTeMGAcllH",
        "outputId": "6ec7e3bd-6a26-412d-8dc8-1d6791704825"
      },
      "outputs": [
        {
          "output_type": "display_data",
          "data": {
            "text/plain": [
              "<Figure size 500x500 with 1 Axes>"
            ],
            "image/png": "[encoded data removed]"
          },
          "metadata": {}
        }
      ],
      "source": [
        "feature_importance_ = pd.DataFrame({'Importance' : RandomForestClassifier().fit(X, y).feature_importances_}, index = X.columns)\n",
        "\n",
        "feature_importance_.sort_values(by = 'Importance', ascending = False, axis = 0)[:5].plot(kind = 'bar', color = 'blue', figsize = (5, 5))\n",
        "plt.xlabel(\"Random Forest Classifier\", color = \"red\", fontdict= {\"fontsize\" : 20});"
      ]
    },
    {
      "cell_type": "markdown",
      "metadata": {
        "papermill": {
          "duration": 0.183866,
          "end_time": "2020-11-30T09:42:47.077361",
          "exception": false,
          "start_time": "2020-11-30T09:42:46.893495",
          "status": "completed"
        },
        "tags": [],
        "id": "qcidi7lQcllH"
      },
      "source": [
        "***Let's try with gridsearchcv to find best parameters.***"
      ]
    },
    {
      "cell_type": "code",
      "execution_count": 403,
      "metadata": {
        "execution": {
          "iopub.execute_input": "2020-11-30T09:42:47.456680Z",
          "iopub.status.busy": "2020-11-30T09:42:47.455799Z",
          "iopub.status.idle": "2020-11-30T09:42:47.459328Z",
          "shell.execute_reply": "2020-11-30T09:42:47.460121Z"
        },
        "papermill": {
          "duration": 0.198411,
          "end_time": "2020-11-30T09:42:47.460335",
          "exception": false,
          "start_time": "2020-11-30T09:42:47.261924",
          "status": "completed"
        },
        "tags": [],
        "id": "vsIbTsGzcllH"
      },
      "outputs": [],
      "source": [
        "params_grid = {'criterion' : ['entropy', 'gini'], 'max_depth' : [2, 4, 6, 8], 'n_estimators' : [300, 400, 500],\n",
        "              'min_samples_split' : [2, 4, 6, 8], 'min_samples_leaf' : [2, 3, 5, 7]}\n",
        "\n",
        "gscv_rf = GridSearchCV(RandomForestClassifier(), params_grid, cv = 3, scoring = 'f1')\n",
        "# gscv_rf.fit(X_train_sc, y_train)"
      ]
    },
    {
      "cell_type": "code",
      "execution_count": 404,
      "metadata": {
        "execution": {
          "iopub.execute_input": "2020-11-30T09:42:47.839154Z",
          "iopub.status.busy": "2020-11-30T09:42:47.838105Z",
          "iopub.status.idle": "2020-11-30T09:42:47.841788Z",
          "shell.execute_reply": "2020-11-30T09:42:47.841018Z"
        },
        "papermill": {
          "duration": 0.195757,
          "end_time": "2020-11-30T09:42:47.841914",
          "exception": false,
          "start_time": "2020-11-30T09:42:47.646157",
          "status": "completed"
        },
        "tags": [],
        "id": "CxLpnq0UcllH"
      },
      "outputs": [],
      "source": [
        "# gscv_rf.best_params_\n",
        "# {'criterion': 'gini','max_depth': 8,'min_samples_leaf': 2,'min_samples_split': 8,'n_estimators': 400}"
      ]
    },
    {
      "cell_type": "code",
      "execution_count": 405,
      "metadata": {
        "execution": {
          "iopub.execute_input": "2020-11-30T09:42:48.217528Z",
          "iopub.status.busy": "2020-11-30T09:42:48.216763Z",
          "iopub.status.idle": "2020-11-30T09:42:50.813994Z",
          "shell.execute_reply": "2020-11-30T09:42:50.813221Z"
        },
        "papermill": {
          "duration": 2.789133,
          "end_time": "2020-11-30T09:42:50.814124",
          "exception": false,
          "start_time": "2020-11-30T09:42:48.024991",
          "status": "completed"
        },
        "tags": [],
        "colab": {
          "base_uri": "https://localhost:8080/"
        },
        "id": "3mxk4GGycllH",
        "outputId": "66405d33-9c49-4fc4-9ea5-ed78e8c9a4d1"
      },
      "outputs": [
        {
          "output_type": "stream",
          "name": "stdout",
          "text": [
            "Accuracy score for test data : 0.7936234381732012\n",
            "Accuracy score for train data : 0.8357036722564212\n"
          ]
        }
      ],
      "source": [
        "# model tunning with best parameters\n",
        "\n",
        "rf_gscv =RandomForestClassifier(n_estimators = 400, criterion = 'gini', max_depth = 8, min_samples_split = 8, min_samples_leaf = 2)\n",
        "rf_gscv.fit(X_train_sc, y_train)\n",
        "\n",
        "y_pred_gsvc = rf_gscv.predict(X_test_sc)\n",
        "y_pred_gsvc_train = rf_gscv.predict(X_train_sc)\n",
        "\n",
        "rf_gscv_as = metrics.accuracy_score(y_test, y_pred_gsvc)\n",
        "rf_gscv_train_as = metrics.accuracy_score(y_train, y_pred_gsvc_train)\n",
        "\n",
        "print(f\"Accuracy score for test data : {rf_gscv_as}\")\n",
        "print(f\"Accuracy score for train data : {rf_gscv_train_as}\")"
      ]
    }
  ],
  "metadata": {
    "kernelspec": {
      "display_name": "Python 3",
      "language": "python",
      "name": "python3"
    },
    "language_info": {
      "codemirror_mode": {
        "name": "ipython",
        "version": 3
      },
      "file_extension": ".py",
      "mimetype": "text/x-python",
      "name": "python",
      "nbconvert_exporter": "python",
      "pygments_lexer": "ipython3",
      "version": "3.7.6"
    },
    "papermill": {
      "duration": 169.04667,
      "end_time": "2020-11-30T09:43:10.153312",
      "environment_variables": {},
      "exception": null,
      "input_path": "__notebook__.ipynb",
      "output_path": "__notebook__.ipynb",
      "parameters": {},
      "start_time": "2020-11-30T09:40:21.106642",
      "version": "2.1.0"
    },
    "colab": {
      "provenance": []
    }
  },
  "nbformat": 4,
  "nbformat_minor": 0
}